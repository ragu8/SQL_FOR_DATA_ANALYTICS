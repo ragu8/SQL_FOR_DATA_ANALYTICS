{
 "cells": [
  {
   "cell_type": "code",
   "execution_count": null,
   "id": "21f2cbc0",
   "metadata": {},
   "outputs": [],
   "source": [
    "import mysql.connector\n",
    "import pandas as pd\n",
    "\n",
    "#Python MySQL - Database Connection\n",
    "mydb = mysql.connector.connect(host=\"localhost\",user=\"ragu\",password=\"password\", database = \"Demo\")\n",
    "cursor = mydb.cursor()"
   ]
  },
  {
   "cell_type": "code",
   "execution_count": null,
   "id": "af3673af",
   "metadata": {},
   "outputs": [],
   "source": [
    "#Python Mysql - Use Database\n",
    "cursor.execute(\"use Demo\")"
   ]
  },
  {
   "cell_type": "code",
   "execution_count": null,
   "id": "4e802b3c",
   "metadata": {},
   "outputs": [],
   "source": [
    "# Retrieving data using pandas\n",
    "pd.read_sql_query(\"SELECT * from Iris\",mydb)"
   ]
  },
  {
   "cell_type": "code",
   "execution_count": null,
   "id": "a799fff8",
   "metadata": {},
   "outputs": [],
   "source": [
    "# Retrieving data using pandas selected part\n",
    "pd.read_sql_query(\"SELECT Id , Species from Iris \",mydb)"
   ]
  },
  {
   "cell_type": "code",
   "execution_count": null,
   "id": "dd65fd52",
   "metadata": {},
   "outputs": [],
   "source": [
    "# Where Clause\n",
    "pd.read_sql_query(\"select * from Iris where SepalLengthCm < 5 \",mydb)"
   ]
  },
  {
   "cell_type": "code",
   "execution_count": null,
   "id": "130787c7",
   "metadata": {},
   "outputs": [],
   "source": [
    "# Where Clause\n",
    "pd.read_sql_query(\"select * from Iris where SepalLengthCm < 5 and PetalLengthCm > 3.3  \",mydb)"
   ]
  },
  {
   "cell_type": "code",
   "execution_count": null,
   "id": "24064e9c",
   "metadata": {},
   "outputs": [],
   "source": [
    "# Where Clause\n",
    "pd.read_sql_query(\"select * from Iris where SepalLengthCm < 5 or PetalLengthCm > 3.3  \",mydb)"
   ]
  },
  {
   "cell_type": "code",
   "execution_count": null,
   "id": "35e840fe",
   "metadata": {},
   "outputs": [],
   "source": [
    "# Orderby\n",
    "pd.read_sql_query(\"select * from Iris where PetalLengthCm > 3.3 order by PetalLengthCm \",mydb)"
   ]
  },
  {
   "cell_type": "code",
   "execution_count": null,
   "id": "7bf3abbe",
   "metadata": {},
   "outputs": [],
   "source": [
    "# Before Update Table\n",
    "pd.read_sql_query(\"select * from  Iris\",mydb)"
   ]
  },
  {
   "cell_type": "code",
   "execution_count": null,
   "id": "535dba70",
   "metadata": {},
   "outputs": [],
   "source": [
    "# Update Table\n",
    "sql = '''update Iris set Id = Id+1 where Species = 'Iris-setosa' '''\n",
    "cursor.execute(sql)"
   ]
  },
  {
   "cell_type": "code",
   "execution_count": null,
   "id": "6e7c856c",
   "metadata": {},
   "outputs": [],
   "source": [
    "# After Update Table\n",
    "pd.read_sql_query(\"select * from  Iris\",mydb)"
   ]
  },
  {
   "cell_type": "code",
   "execution_count": null,
   "id": "60a8c5c9",
   "metadata": {},
   "outputs": [],
   "source": [
    "# Delete Data\n",
    "sql = '''Delete from Iris where Species = 'Iris-setosa' '''\n",
    "cursor.execute(sql)"
   ]
  },
  {
   "cell_type": "code",
   "execution_count": null,
   "id": "04818ac1",
   "metadata": {},
   "outputs": [],
   "source": [
    "pd.read_sql_query(\"select * from Iris\",mydb)"
   ]
  },
  {
   "cell_type": "code",
   "execution_count": null,
   "id": "66bb3057",
   "metadata": {},
   "outputs": [],
   "source": [
    "# List the Tables\n",
    "cursor.execute(\"SHOW Tables\")\n",
    "for x in cursor:\n",
    "    print(x) "
   ]
  },
  {
   "cell_type": "code",
   "execution_count": null,
   "id": "8e936994",
   "metadata": {},
   "outputs": [],
   "source": [
    "# create a Table (dummie)\n",
    "sql ='''CREATE TABLE EMP(\n",
    "   FIRST_NAME CHAR(20) NOT NULL,\n",
    "   LAST_NAME CHAR(20),\n",
    "   AGE INT,\n",
    "   SEX CHAR(1),\n",
    "   INCOME FLOAT\n",
    ")'''\n",
    "cursor.execute(sql)"
   ]
  },
  {
   "cell_type": "code",
   "execution_count": null,
   "id": "68a577db",
   "metadata": {},
   "outputs": [],
   "source": [
    "# List the Tables\n",
    "cursor.execute(\"SHOW Tables\")\n",
    "for x in cursor:\n",
    "    print(x)"
   ]
  },
  {
   "cell_type": "code",
   "execution_count": null,
   "id": "c78e0781",
   "metadata": {},
   "outputs": [],
   "source": [
    "# Drop Table\n",
    "sql = ''' drop table EMP'''\n",
    "cursor.execute(sql)"
   ]
  },
  {
   "cell_type": "code",
   "execution_count": null,
   "id": "8c24c503",
   "metadata": {},
   "outputs": [],
   "source": [
    "# List the Tables\n",
    "cursor.execute(\"SHOW Tables\")\n",
    "for x in cursor:\n",
    "    print(x)"
   ]
  },
  {
   "cell_type": "code",
   "execution_count": null,
   "id": "b77a55a1",
   "metadata": {},
   "outputs": [],
   "source": [
    "# Limit clause \n",
    "pd.read_sql_query(\"select Id from Iris LIMIT 2\",mydb)"
   ]
  },
  {
   "cell_type": "code",
   "execution_count": null,
   "id": "031fac5f",
   "metadata": {},
   "outputs": [],
   "source": [
    "# Limit clause \n",
    "pd.read_sql_query(\"select * from Iris LIMIT 2\",mydb)"
   ]
  },
  {
   "cell_type": "code",
   "execution_count": null,
   "id": "a2d364f2",
   "metadata": {},
   "outputs": [],
   "source": [
    "# Limit with offset\n",
    "pd.read_sql_query(\"select * from Iris LIMIT 2 offset 4 \",mydb) #includes last row of limit and first row of offset"
   ]
  },
  {
   "cell_type": "code",
   "execution_count": null,
   "id": "01ca02d8",
   "metadata": {},
   "outputs": [],
   "source": [
    "# Exercise 6: Querying the Salespeople Table Using Basic Keywords in a SELECT Query\n",
    "pd.read_sql_query(\"select Id from Iris where Species ='Iris-versicolor' order by PetalWidthCm LIMIT 10  \",mydb)"
   ]
  },
  {
   "cell_type": "code",
   "execution_count": null,
   "id": "bf5d2421",
   "metadata": {},
   "outputs": [],
   "source": [
    "# Exercise 7: Creating a Table in SQL\n",
    "cursor.execute(\"create Table iris(Id INT,SepalLengthCm FLOAT , SepalWidthCm FLOAT, PetalLengthCm FLOAT, PetalWidthCm FLOAT , Species VARCHAR(16))\")"
   ]
  },
  {
   "cell_type": "code",
   "execution_count": null,
   "id": "2743de39",
   "metadata": {},
   "outputs": [],
   "source": [
    "# List Tables\n",
    "cursor.execute(\"SHOW Tables\")\n",
    "\n",
    "for x in cursor:\n",
    "    print(x) "
   ]
  },
  {
   "cell_type": "code",
   "execution_count": null,
   "id": "ded0cc0e",
   "metadata": {},
   "outputs": [],
   "source": [
    "# Before Updating\n",
    "pd.read_sql_query(\"select * from Iris where PetalWidthCm > 1.5 and PetalWidthCm < 3\",mydb)"
   ]
  },
  {
   "cell_type": "code",
   "execution_count": null,
   "id": "1fde7535",
   "metadata": {},
   "outputs": [],
   "source": [
    "# Exercise 8: Updating Tables in SQL\n",
    "sql = ''' update Iris SET Id = Id +1 where PetalWidthCm > 1.5 and PetalWidthCm < 3'''\n",
    "cursor.execute(sql)"
   ]
  },
  {
   "cell_type": "code",
   "execution_count": null,
   "id": "67ea1343",
   "metadata": {},
   "outputs": [],
   "source": [
    "# After Updating\n",
    "pd.read_sql_query(\"select * from Iris where PetalWidthCm > 1.5 and PetalWidthCm < 3\",mydb)"
   ]
  },
  {
   "cell_type": "code",
   "execution_count": null,
   "id": "5fe8bbd0",
   "metadata": {},
   "outputs": [],
   "source": [
    "# Exercise 9: Unnecessary Reference Table\n",
    "sql = '''drop table iris'''\n",
    "cursor.execute(sql)"
   ]
  },
  {
   "cell_type": "code",
   "execution_count": null,
   "id": "5329e9df",
   "metadata": {},
   "outputs": [],
   "source": [
    "# List Tables\n",
    "cursor.execute(\"SHOW Tables\")\n",
    "\n",
    "for x in cursor:\n",
    "    print(x) "
   ]
  },
  {
   "cell_type": "code",
   "execution_count": null,
   "id": "0d7cd353",
   "metadata": {},
   "outputs": [],
   "source": []
  }
 ],
 "metadata": {
  "kernelspec": {
   "display_name": "Python 3 (ipykernel)",
   "language": "python",
   "name": "python3"
  },
  "language_info": {
   "codemirror_mode": {
    "name": "ipython",
    "version": 3
   },
   "file_extension": ".py",
   "mimetype": "text/x-python",
   "name": "python",
   "nbconvert_exporter": "python",
   "pygments_lexer": "ipython3",
   "version": "3.9.7"
  }
 },
 "nbformat": 4,
 "nbformat_minor": 5
}
