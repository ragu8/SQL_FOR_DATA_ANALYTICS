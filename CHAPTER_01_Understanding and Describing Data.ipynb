{
 "cells": [
  {
   "cell_type": "code",
   "execution_count": null,
   "id": "e539d9fc",
   "metadata": {},
   "outputs": [],
   "source": [
    "import matplotlib.pyplot as plt\n",
    "import pandas as pd\n",
    "import numpy as np\n",
    "import statistics as stat\n",
    "import math\n",
    "import pymysql"
   ]
  },
  {
   "cell_type": "code",
   "execution_count": null,
   "id": "180a2729",
   "metadata": {},
   "outputs": [],
   "source": [
    "# Establish connection \n",
    "conn=pymysql.connect(host='localhost',port=int(3306),user='ragu',passwd='password',db='Dataset1')\n"
   ]
  },
  {
   "cell_type": "code",
   "execution_count": null,
   "id": "2495c0c4",
   "metadata": {},
   "outputs": [],
   "source": [
    "# Exercise 1: Creating a Histogram"
   ]
  },
  {
   "cell_type": "code",
   "execution_count": null,
   "id": "ba54ff63",
   "metadata": {},
   "outputs": [],
   "source": [
    "# Loading the data from db\n",
    "data = pd.read_sql_query(\"SELECT * FROM heights \",conn)"
   ]
  },
  {
   "cell_type": "code",
   "execution_count": null,
   "id": "a3bbf47b",
   "metadata": {
    "scrolled": true
   },
   "outputs": [],
   "source": [
    "plt.xlabel(\"heights\")\n",
    "plt.ylabel(\"No of people\")\n",
    "plt.title('Exercise 1: Creating a Histogram')\n",
    "plt.hist(data)\n",
    "plt.show() "
   ]
  },
  {
   "cell_type": "code",
   "execution_count": null,
   "id": "2c3a618f",
   "metadata": {},
   "outputs": [],
   "source": [
    "# Exercise 2: Calculating the Quartiles for Add-on Sales"
   ]
  },
  {
   "cell_type": "code",
   "execution_count": null,
   "id": "e307c2cd",
   "metadata": {},
   "outputs": [],
   "source": [
    "# Loading the data from db\n",
    "data = pd.read_sql_query(\"SELECT * FROM auto_upgrades \",conn)"
   ]
  },
  {
   "cell_type": "code",
   "execution_count": null,
   "id": "dc4f7ed8",
   "metadata": {},
   "outputs": [],
   "source": [
    "# First quartile (Q1)\n",
    "Q1 = np.percentile(data, 25)\n",
    "\n",
    "# Second quartile (Q2)\n",
    "Q2 = np.percentile(data, 50)\n",
    "  \n",
    "# Third quartile (Q3)\n",
    "Q3 = np.percentile(data, 75)\n",
    "\n",
    "# Four quartile (Q4)\n",
    "Q4 = np.percentile(data, 100)"
   ]
  },
  {
   "cell_type": "code",
   "execution_count": null,
   "id": "cf7b3793",
   "metadata": {},
   "outputs": [],
   "source": [
    "plt.xlabel(\"Quartiles\")\n",
    "plt.ylabel(\"Car Price\")\n",
    "plt.title('Exercise 2: Calculating the Quartiles for Add-on Sales')\n",
    "plt.boxplot(data)\n",
    "plt.show() "
   ]
  },
  {
   "cell_type": "code",
   "execution_count": null,
   "id": "0251579b",
   "metadata": {},
   "outputs": [],
   "source": [
    "# Exercise 3: Calculating the Central Tendency of Add-on Sales"
   ]
  },
  {
   "cell_type": "code",
   "execution_count": null,
   "id": "5a09a7bc",
   "metadata": {},
   "outputs": [],
   "source": [
    "# Loading the data from db\n",
    "data = pd.read_sql_query(\"SELECT * FROM auto_upgrades \",conn)"
   ]
  },
  {
   "cell_type": "code",
   "execution_count": null,
   "id": "1ae4ed49",
   "metadata": {},
   "outputs": [],
   "source": [
    "mode = np.unique(data)\n",
    "mean = np.mean(data)\n",
    "median = np.median(data)\n",
    "data = [mode, mean, median]"
   ]
  },
  {
   "cell_type": "code",
   "execution_count": null,
   "id": "c582c873",
   "metadata": {
    "scrolled": true
   },
   "outputs": [],
   "source": [
    "plt.xlabel(\"Quartiles\")\n",
    "plt.ylabel(\"Car Price\")\n",
    "plt.title('Exercise 3: Calculating the Central Tendency of Add-on Sales')\n",
    "plt.boxplot(data)\n",
    "plt.show() "
   ]
  },
  {
   "cell_type": "code",
   "execution_count": null,
   "id": "3fa5ceca",
   "metadata": {},
   "outputs": [],
   "source": [
    "# Exercise 4: Dispersion of Add-on Sales"
   ]
  },
  {
   "cell_type": "code",
   "execution_count": null,
   "id": "c249c613",
   "metadata": {},
   "outputs": [],
   "source": [
    "# Loading the data from db\n",
    "data = pd.read_sql_query(\"SELECT * FROM auto_upgrades \",conn)"
   ]
  },
  {
   "cell_type": "code",
   "execution_count": null,
   "id": "b27d7f0f",
   "metadata": {},
   "outputs": [],
   "source": [
    "data = data['Sales'].tolist()"
   ]
  },
  {
   "cell_type": "code",
   "execution_count": null,
   "id": "8d6dd4be",
   "metadata": {},
   "outputs": [],
   "source": [
    "# Range\n",
    "range_ = max(data) - min(data)\n",
    "range_"
   ]
  },
  {
   "cell_type": "code",
   "execution_count": null,
   "id": "270dfb3d",
   "metadata": {},
   "outputs": [],
   "source": [
    "# Standard deviation\n",
    "\n",
    "# Using Python's statistics Function's variance() & stdev()\n",
    "\n",
    "stat.variance(data)\n",
    "stat.stdev(data)\n",
    "\n",
    "# From crash\n",
    "def Var(data):\n",
    "    n = len(data)\n",
    "    mean = sum(data)/n\n",
    "    Var = sum((x-mean)**2 for x in data) / (n-1)\n",
    "    return Var\n",
    "\n",
    "def Stdev(data):\n",
    "    var = Var(data)\n",
    "    Stdev = math.sqrt(var)\n",
    "    return Stdev\n",
    "Var(data)\n",
    "Stdev(data)"
   ]
  },
  {
   "cell_type": "code",
   "execution_count": null,
   "id": "2157919c",
   "metadata": {},
   "outputs": [],
   "source": [
    "# Calculating the mean of Quartiles \n",
    "# First quartile (Q1)\n",
    "Q1 = np.percentile(data, 25)\n",
    "\n",
    "# Second quartile (Q2)\n",
    "Q2 = np.percentile(data, 50)\n",
    "  \n",
    "# Third quartile (Q3)\n",
    "Q3 = np.percentile(data, 75)\n",
    "\n",
    "# Four quartile (Q4)\n",
    "Q4 = np.percentile(data, 100)\n",
    "  "
   ]
  },
  {
   "cell_type": "code",
   "execution_count": null,
   "id": "ff9beaab",
   "metadata": {},
   "outputs": [],
   "source": [
    "# Loading the data from db\n",
    "data = pd.read_sql_query(\"SELECT * FROM auto_upgrades \",conn)\n",
    "data = data['Sales'].tolist()\n",
    "# Difference With Mean\n",
    "Diff = data - np.mean(data)\n",
    "Diff"
   ]
  },
  {
   "cell_type": "code",
   "execution_count": null,
   "id": "ee828d4e",
   "metadata": {},
   "outputs": [],
   "source": [
    "# Differences with Mean Squared\n",
    "Diff_Mean_Sqr = Diff**2\n",
    "Diff_Mean_Sqr"
   ]
  },
  {
   "cell_type": "code",
   "execution_count": null,
   "id": "ae7be265",
   "metadata": {},
   "outputs": [],
   "source": [
    "# Divide the sum by the number of data points minus 1, which, in this case, is 10, and take its square root.\n",
    "# Loading the data from db\n",
    "data = pd.read_sql_query(\"SELECT * FROM auto_upgrades \",conn)\n",
    "data = data['Sales'].tolist()\n",
    "sample = data\n",
    "data = sum(data) -1\n",
    "stat.stdev(sample)"
   ]
  },
  {
   "cell_type": "code",
   "execution_count": null,
   "id": "99cf8d25",
   "metadata": {},
   "outputs": [],
   "source": [
    "# Interquaritle range (IQR)\n",
    "IQR = Q3 - Q1\n",
    "IQR"
   ]
  },
  {
   "cell_type": "code",
   "execution_count": null,
   "id": "ea4cc33f",
   "metadata": {},
   "outputs": [],
   "source": [
    "# Exercise 5: Calculating the Pearson Correlation Coefficient for Two Variables"
   ]
  },
  {
   "cell_type": "code",
   "execution_count": null,
   "id": "e11d627a",
   "metadata": {},
   "outputs": [],
   "source": [
    "# Loading the data from db\n",
    "data = pd.read_sql_query(\"SELECT * FROM dealership \",conn)\n",
    "data"
   ]
  },
  {
   "cell_type": "code",
   "execution_count": null,
   "id": "bc477730",
   "metadata": {},
   "outputs": [],
   "source": [
    "#  Create a scatterplot of the two variables\n",
    "Hours = data.Hours\n",
    "Sales = data.Sales\n",
    "plt.title('Exercise 5: Calculating the Pearson Correlation Coefficient for Two Variables')\n",
    "plt.xlabel(\"Hours\")\n",
    "plt.ylabel(\"Sales\")\n",
    "plt.scatter(Hours,Sales)\n",
    "plt.show() "
   ]
  },
  {
   "cell_type": "code",
   "execution_count": null,
   "id": "4aebcdde",
   "metadata": {},
   "outputs": [],
   "source": [
    "# Calculate the mean of each variable\n",
    "Mean_Hours = np.mean(Hours)\n",
    "Mean_Sales = np.mean(Sales)\n",
    "print(Mean_Hours)\n",
    "print(Mean_Sales)"
   ]
  },
  {
   "cell_type": "code",
   "execution_count": null,
   "id": "45f54751",
   "metadata": {},
   "outputs": [],
   "source": [
    "x_mean =  Hours - Mean_Hours\n",
    "sq_x_mean = x_mean**2\n",
    "y_mean = Sales - Mean_Sales\n",
    "sq_y_mean = y_mean**2\n",
    "x_mean_y_mean = x_mean*y_mean\n",
    "x_mean_y_mean"
   ]
  },
  {
   "cell_type": "code",
   "execution_count": null,
   "id": "0689294d",
   "metadata": {},
   "outputs": [],
   "source": [
    "# Find the sum of the squared terms and the sum of the product of the differences.\n",
    "sum_of_squared_x = sum(sq_x_mean)\n",
    "sum_of_squared_y = sum(sq_y_mean)\n",
    "sum_of_product = sum(x_mean_y_mean)"
   ]
  },
  {
   "cell_type": "code",
   "execution_count": null,
   "id": "1d12afe7",
   "metadata": {},
   "outputs": [],
   "source": [
    "diff_x = sum_of_product - sum_of_squared_x "
   ]
  },
  {
   "cell_type": "code",
   "execution_count": null,
   "id": "38148067",
   "metadata": {},
   "outputs": [],
   "source": [
    "diff_y = sum_of_squared_y - sum_of_product "
   ]
  },
  {
   "cell_type": "code",
   "execution_count": null,
   "id": "edacafa0",
   "metadata": {},
   "outputs": [],
   "source": [
    "# Take the square root of the sum of the differences\n",
    "sum_of_diff = diff_x + diff_y\n",
    "np.sqrt(sum_of_diff)"
   ]
  },
  {
   "cell_type": "code",
   "execution_count": null,
   "id": "094070a6",
   "metadata": {},
   "outputs": [],
   "source": [
    "# Input the values into the equation\n",
    "data = pd.read_sql_query(\"SELECT * FROM dealership \",conn)\n",
    "x = data.Hours\n",
    "y = data.Sales\n",
    "r = sum((x-np.mean(x))*(y-np.mean(y)))/((np.sqrt(sum((x-np.mean(x))**2)))*(np.sqrt(sum((y-np.mean(y))**2))))\n",
    "r"
   ]
  },
  {
   "cell_type": "code",
   "execution_count": null,
   "id": "7631859b",
   "metadata": {},
   "outputs": [],
   "source": []
  }
 ],
 "metadata": {
  "kernelspec": {
   "display_name": "Python 3 (ipykernel)",
   "language": "python",
   "name": "python3"
  },
  "language_info": {
   "codemirror_mode": {
    "name": "ipython",
    "version": 3
   },
   "file_extension": ".py",
   "mimetype": "text/x-python",
   "name": "python",
   "nbconvert_exporter": "python",
   "pygments_lexer": "ipython3",
   "version": "3.9.7"
  }
 },
 "nbformat": 4,
 "nbformat_minor": 5
}
