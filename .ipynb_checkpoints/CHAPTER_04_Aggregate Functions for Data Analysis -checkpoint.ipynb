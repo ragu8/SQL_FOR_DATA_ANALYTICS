{
 "cells": [
  {
   "cell_type": "code",
   "execution_count": null,
   "id": "2ba97cd5",
   "metadata": {},
   "outputs": [],
   "source": [
    "import mysql.connector\n",
    "import pandas as pd\n",
    "\n",
    "# Database connection\n",
    "mydb = mysql.connector.connect(host = \"localhost\",user = \"ragu\", password = \"password\")\n",
    "cursor = mydb.cursor()"
   ]
  },
  {
   "cell_type": "code",
   "execution_count": null,
   "id": "9f7a562e",
   "metadata": {},
   "outputs": [],
   "source": [
    "#Use Database joins\n",
    "cursor.execute(\"use joins\")"
   ]
  },
  {
   "cell_type": "code",
   "execution_count": null,
   "id": "cf406611",
   "metadata": {},
   "outputs": [],
   "source": [
    "#List of Tables\n",
    "cursor.execute(\"show tables\")\n",
    "for x in cursor:\n",
    "    print(x)"
   ]
  },
  {
   "cell_type": "code",
   "execution_count": null,
   "id": "b0ed634b",
   "metadata": {},
   "outputs": [],
   "source": [
    "# Count\n",
    "pd.read_sql_query(\"select count(*) from member\",mydb)"
   ]
  },
  {
   "cell_type": "code",
   "execution_count": null,
   "id": "15b95a44",
   "metadata": {},
   "outputs": [],
   "source": [
    "# Count \n",
    "pd.read_sql_query(\"select name ,count(*) from member group by name \",mydb)"
   ]
  },
  {
   "cell_type": "code",
   "execution_count": null,
   "id": "e46a9a0d",
   "metadata": {},
   "outputs": [],
   "source": [
    "# Count\n",
    "pd.read_sql_query(\"select \")"
   ]
  }
 ],
 "metadata": {
  "kernelspec": {
   "display_name": "Python 3 (ipykernel)",
   "language": "python",
   "name": "python3"
  },
  "language_info": {
   "codemirror_mode": {
    "name": "ipython",
    "version": 3
   },
   "file_extension": ".py",
   "mimetype": "text/x-python",
   "name": "python",
   "nbconvert_exporter": "python",
   "pygments_lexer": "ipython3",
   "version": "3.9.7"
  }
 },
 "nbformat": 4,
 "nbformat_minor": 5
}
