{
 "cells": [
  {
   "cell_type": "code",
   "execution_count": 1,
   "id": "e539d9fc",
   "metadata": {},
   "outputs": [],
   "source": [
    "import matplotlib.pyplot as plt\n",
    "import pandas as pd\n",
    "import numpy as np\n",
    "import statistics as stat\n",
    "import math\n",
    "import pymysql"
   ]
  },
  {
   "cell_type": "code",
   "execution_count": 2,
   "id": "180a2729",
   "metadata": {},
   "outputs": [],
   "source": [
    "# Establish connection \n",
    "conn=pymysql.connect(host='localhost',port=int(3306),user='ragu',passwd='password',db='Dataset1')\n"
   ]
  },
  {
   "cell_type": "code",
   "execution_count": 3,
   "id": "2495c0c4",
   "metadata": {},
   "outputs": [],
   "source": [
    "# Exercise 1: Creating a Histogram"
   ]
  },
  {
   "cell_type": "code",
   "execution_count": 4,
   "id": "ba54ff63",
   "metadata": {},
   "outputs": [],
   "source": [
    "# Loading the data from db\n",
    "data = pd.read_sql_query(\"SELECT * FROM heights \",conn)"
   ]
  },
  {
   "cell_type": "code",
   "execution_count": 5,
   "id": "a3bbf47b",
   "metadata": {
    "scrolled": true
   },
   "outputs": [
    {
     "data": {
      "image/png": "[encoded data removed]",
      "text/plain": [
       "<Figure size 432x288 with 1 Axes>"
      ]
     },
     "metadata": {
      "needs_background": "light"
     },
     "output_type": "display_data"
    }
   ],
   "source": [
    "plt.xlabel(\"heights\")\n",
    "plt.ylabel(\"No of people\")\n",
    "plt.title('Exercise 1: Creating a Histogram')\n",
    "plt.hist(data)\n",
    "plt.show() "
   ]
  },
  {
   "cell_type": "code",
   "execution_count": 6,
   "id": "2c3a618f",
   "metadata": {},
   "outputs": [],
   "source": [
    "# Exercise 2: Calculating the Quartiles for Add-on Sales"
   ]
  },
  {
   "cell_type": "code",
   "execution_count": 7,
   "id": "e307c2cd",
   "metadata": {},
   "outputs": [],
   "source": [
    "# Loading the data from db\n",
    "data = pd.read_sql_query(\"SELECT * FROM auto_upgrades \",conn)"
   ]
  },
  {
   "cell_type": "code",
   "execution_count": 8,
   "id": "dc4f7ed8",
   "metadata": {},
   "outputs": [],
   "source": [
    "# First quartile (Q1)\n",
    "Q1 = np.percentile(data, 25)\n",
    "\n",
    "# Second quartile (Q2)\n",
    "Q2 = np.percentile(data, 50)\n",
    "  \n",
    "# Third quartile (Q3)\n",
    "Q3 = np.percentile(data, 75)\n",
    "\n",
    "# Four quartile (Q4)\n",
    "Q4 = np.percentile(data, 100)"
   ]
  },
  {
   "cell_type": "code",
   "execution_count": 9,
   "id": "cf7b3793",
   "metadata": {},
   "outputs": [
    {
     "data": {
      "image/png": "[encoded data removed]",
      "text/plain": [
       "<Figure size 432x288 with 1 Axes>"
      ]
     },
     "metadata": {
      "needs_background": "light"
     },
     "output_type": "display_data"
    }
   ],
   "source": [
    "plt.xlabel(\"Quartiles\")\n",
    "plt.ylabel(\"Car Price\")\n",
    "plt.title('Exercise 2: Calculating the Quartiles for Add-on Sales')\n",
    "plt.boxplot(data)\n",
    "plt.show() "
   ]
  },
  {
   "cell_type": "code",
   "execution_count": 10,
   "id": "0251579b",
   "metadata": {},
   "outputs": [],
   "source": [
    "# Exercise 3: Calculating the Central Tendency of Add-on Sales"
   ]
  },
  {
   "cell_type": "code",
   "execution_count": 11,
   "id": "5a09a7bc",
   "metadata": {},
   "outputs": [],
   "source": [
    "# Loading the data from db\n",
    "data = pd.read_sql_query(\"SELECT * FROM auto_upgrades \",conn)"
   ]
  },
  {
   "cell_type": "code",
   "execution_count": 12,
   "id": "1ae4ed49",
   "metadata": {},
   "outputs": [],
   "source": [
    "mode = np.unique(data)\n",
    "mean = np.mean(data)\n",
    "median = np.median(data)\n",
    "data = [mode, mean, median]"
   ]
  },
  {
   "cell_type": "code",
   "execution_count": 13,
   "id": "c582c873",
   "metadata": {
    "scrolled": true
   },
   "outputs": [
    {
     "data": {
      "image/png": "[encoded data removed]",
      "text/plain": [
       "<Figure size 432x288 with 1 Axes>"
      ]
     },
     "metadata": {
      "needs_background": "light"
     },
     "output_type": "display_data"
    }
   ],
   "source": [
    "plt.xlabel(\"Quartiles\")\n",
    "plt.ylabel(\"Car Price\")\n",
    "plt.title('Exercise 3: Calculating the Central Tendency of Add-on Sales')\n",
    "plt.boxplot(data)\n",
    "plt.show() "
   ]
  },
  {
   "cell_type": "code",
   "execution_count": 14,
   "id": "3fa5ceca",
   "metadata": {},
   "outputs": [],
   "source": [
    "# Exercise 4: Dispersion of Add-on Sales"
   ]
  },
  {
   "cell_type": "code",
   "execution_count": 15,
   "id": "c249c613",
   "metadata": {},
   "outputs": [],
   "source": [
    "# Loading the data from db\n",
    "data = pd.read_sql_query(\"SELECT * FROM auto_upgrades \",conn)"
   ]
  },
  {
   "cell_type": "code",
   "execution_count": 16,
   "id": "b27d7f0f",
   "metadata": {},
   "outputs": [],
   "source": [
    "data = data['Sales'].tolist()"
   ]
  },
  {
   "cell_type": "code",
   "execution_count": 17,
   "id": "8d6dd4be",
   "metadata": {},
   "outputs": [
    {
     "data": {
      "text/plain": [
       "9000"
      ]
     },
     "execution_count": 17,
     "metadata": {},
     "output_type": "execute_result"
    }
   ],
   "source": [
    "# Range\n",
    "range_ = max(data) - min(data)\n",
    "range_"
   ]
  },
  {
   "cell_type": "code",
   "execution_count": 18,
   "id": "270dfb3d",
   "metadata": {},
   "outputs": [
    {
     "data": {
      "text/plain": [
       "3023.934823732452"
      ]
     },
     "execution_count": 18,
     "metadata": {},
     "output_type": "execute_result"
    }
   ],
   "source": [
    "# Standard deviation\n",
    "\n",
    "# Using Python's statistics Function's variance() & stdev()\n",
    "\n",
    "stat.variance(data)\n",
    "stat.stdev(data)\n",
    "\n",
    "# From crash\n",
    "def Var(data):\n",
    "    n = len(data)\n",
    "    mean = sum(data)/n\n",
    "    Var = sum((x-mean)**2 for x in data) / (n-1)\n",
    "    return Var\n",
    "\n",
    "def Stdev(data):\n",
    "    var = Var(data)\n",
    "    Stdev = math.sqrt(var)\n",
    "    return Stdev\n",
    "Var(data)\n",
    "Stdev(data)"
   ]
  },
  {
   "cell_type": "code",
   "execution_count": 19,
   "id": "2157919c",
   "metadata": {},
   "outputs": [],
   "source": [
    "# Calculating the mean of Quartiles \n",
    "# First quartile (Q1)\n",
    "Q1 = np.percentile(data, 25)\n",
    "\n",
    "# Second quartile (Q2)\n",
    "Q2 = np.percentile(data, 50)\n",
    "  \n",
    "# Third quartile (Q3)\n",
    "Q3 = np.percentile(data, 75)\n",
    "\n",
    "# Four quartile (Q4)\n",
    "Q4 = np.percentile(data, 100)\n",
    "  "
   ]
  },
  {
   "cell_type": "code",
   "execution_count": 20,
   "id": "ff9beaab",
   "metadata": {},
   "outputs": [
    {
     "data": {
      "text/plain": [
       "array([ 1572.72727273, -1727.27272727,  4772.72727273, -1927.27272727,\n",
       "        -127.27272727,  5572.72727273, -1427.27272727, -3427.27272727,\n",
       "       -3427.27272727, -1127.27272727,  1272.72727273])"
      ]
     },
     "execution_count": 20,
     "metadata": {},
     "output_type": "execute_result"
    }
   ],
   "source": [
    "# Loading the data from db\n",
    "data = pd.read_sql_query(\"SELECT * FROM auto_upgrades \",conn)\n",
    "data = data['Sales'].tolist()\n",
    "# Difference With Mean\n",
    "Diff = data - np.mean(data)\n",
    "Diff"
   ]
  },
  {
   "cell_type": "code",
   "execution_count": 21,
   "id": "ee828d4e",
   "metadata": {},
   "outputs": [
    {
     "data": {
      "text/plain": [
       "array([2.47347107e+06, 2.98347107e+06, 2.27789256e+07, 3.71438017e+06,\n",
       "       1.61983471e+04, 3.10552893e+07, 2.03710744e+06, 1.17461983e+07,\n",
       "       1.17461983e+07, 1.27074380e+06, 1.61983471e+06])"
      ]
     },
     "execution_count": 21,
     "metadata": {},
     "output_type": "execute_result"
    }
   ],
   "source": [
    "# Differences with Mean Squared\n",
    "Diff_Mean_Sqr = Diff**2\n",
    "Diff_Mean_Sqr"
   ]
  },
  {
   "cell_type": "code",
   "execution_count": 22,
   "id": "ae7be265",
   "metadata": {},
   "outputs": [
    {
     "data": {
      "text/plain": [
       "3023.9348237324525"
      ]
     },
     "execution_count": 22,
     "metadata": {},
     "output_type": "execute_result"
    }
   ],
   "source": [
    "# Divide the sum by the number of data points minus 1, which, in this case, is 10, and take its square root.\n",
    "# Loading the data from db\n",
    "data = pd.read_sql_query(\"SELECT * FROM auto_upgrades \",conn)\n",
    "data = data['Sales'].tolist()\n",
    "sample = data\n",
    "data = sum(data) -1\n",
    "stat.stdev(sample)"
   ]
  },
  {
   "cell_type": "code",
   "execution_count": 23,
   "id": "99cf8d25",
   "metadata": {},
   "outputs": [
    {
     "data": {
      "text/plain": [
       "3250.0"
      ]
     },
     "execution_count": 23,
     "metadata": {},
     "output_type": "execute_result"
    }
   ],
   "source": [
    "# Interquaritle range (IQR)\n",
    "IQR = Q3 - Q1\n",
    "IQR"
   ]
  },
  {
   "cell_type": "code",
   "execution_count": 24,
   "id": "ea4cc33f",
   "metadata": {},
   "outputs": [],
   "source": [
    "# Exercise 5: Calculating the Pearson Correlation Coefficient for Two Variables"
   ]
  },
  {
   "cell_type": "code",
   "execution_count": 25,
   "id": "e11d627a",
   "metadata": {},
   "outputs": [
    {
     "data": {
      "text/html": [
       "<div>\n",
       "<style scoped>\n",
       "    .dataframe tbody tr th:only-of-type {\n",
       "        vertical-align: middle;\n",
       "    }\n",
       "\n",
       "    .dataframe tbody tr th {\n",
       "        vertical-align: top;\n",
       "    }\n",
       "\n",
       "    .dataframe thead th {\n",
       "        text-align: right;\n",
       "    }\n",
       "</style>\n",
       "<table border=\"1\" class=\"dataframe\">\n",
       "  <thead>\n",
       "    <tr style=\"text-align: right;\">\n",
       "      <th></th>\n",
       "      <th>Hours</th>\n",
       "      <th>Sales</th>\n",
       "    </tr>\n",
       "  </thead>\n",
       "  <tbody>\n",
       "    <tr>\n",
       "      <th>0</th>\n",
       "      <td>40</td>\n",
       "      <td>179481.0</td>\n",
       "    </tr>\n",
       "    <tr>\n",
       "      <th>1</th>\n",
       "      <td>56</td>\n",
       "      <td>2495040.0</td>\n",
       "    </tr>\n",
       "    <tr>\n",
       "      <th>2</th>\n",
       "      <td>50</td>\n",
       "      <td>2285370.0</td>\n",
       "    </tr>\n",
       "    <tr>\n",
       "      <th>3</th>\n",
       "      <td>82</td>\n",
       "      <td>2367900.0</td>\n",
       "    </tr>\n",
       "    <tr>\n",
       "      <th>4</th>\n",
       "      <td>41</td>\n",
       "      <td>1309750.0</td>\n",
       "    </tr>\n",
       "    <tr>\n",
       "      <th>5</th>\n",
       "      <td>51</td>\n",
       "      <td>623014.0</td>\n",
       "    </tr>\n",
       "    <tr>\n",
       "      <th>6</th>\n",
       "      <td>45</td>\n",
       "      <td>2989940.0</td>\n",
       "    </tr>\n",
       "    <tr>\n",
       "      <th>7</th>\n",
       "      <td>90</td>\n",
       "      <td>1970320.0</td>\n",
       "    </tr>\n",
       "    <tr>\n",
       "      <th>8</th>\n",
       "      <td>47</td>\n",
       "      <td>1845840.0</td>\n",
       "    </tr>\n",
       "    <tr>\n",
       "      <th>9</th>\n",
       "      <td>72</td>\n",
       "      <td>2553230.0</td>\n",
       "    </tr>\n",
       "  </tbody>\n",
       "</table>\n",
       "</div>"
      ],
      "text/plain": [
       "   Hours      Sales\n",
       "0     40   179481.0\n",
       "1     56  2495040.0\n",
       "2     50  2285370.0\n",
       "3     82  2367900.0\n",
       "4     41  1309750.0\n",
       "5     51   623014.0\n",
       "6     45  2989940.0\n",
       "7     90  1970320.0\n",
       "8     47  1845840.0\n",
       "9     72  2553230.0"
      ]
     },
     "execution_count": 25,
     "metadata": {},
     "output_type": "execute_result"
    }
   ],
   "source": [
    "# Loading the data from db\n",
    "data = pd.read_sql_query(\"SELECT * FROM dealership \",conn)\n",
    "data"
   ]
  },
  {
   "cell_type": "code",
   "execution_count": 26,
   "id": "bc477730",
   "metadata": {},
   "outputs": [
    {
     "data": {
      "image/png": "[encoded data removed]",
      "text/plain": [
       "<Figure size 432x288 with 1 Axes>"
      ]
     },
     "metadata": {
      "needs_background": "light"
     },
     "output_type": "display_data"
    }
   ],
   "source": [
    "#  Create a scatterplot of the two variables\n",
    "Hours = data.Hours\n",
    "Sales = data.Sales\n",
    "plt.title('Exercise 5: Calculating the Pearson Correlation Coefficient for Two Variables')\n",
    "plt.xlabel(\"Hours\")\n",
    "plt.ylabel(\"Sales\")\n",
    "plt.scatter(Hours,Sales)\n",
    "plt.show() "
   ]
  },
  {
   "cell_type": "code",
   "execution_count": 27,
   "id": "4aebcdde",
   "metadata": {},
   "outputs": [
    {
     "name": "stdout",
     "output_type": "stream",
     "text": [
      "57.4\n",
      "1861988.5\n"
     ]
    }
   ],
   "source": [
    "# Calculate the mean of each variable\n",
    "Mean_Hours = np.mean(Hours)\n",
    "Mean_Sales = np.mean(Sales)\n",
    "print(Mean_Hours)\n",
    "print(Mean_Sales)"
   ]
  },
  {
   "cell_type": "code",
   "execution_count": 28,
   "id": "45f54751",
   "metadata": {},
   "outputs": [
    {
     "data": {
      "text/plain": [
       "0    29275630.5\n",
       "1     -886272.1\n",
       "2    -3133023.1\n",
       "3    12445422.9\n",
       "4     9056711.4\n",
       "5     7929436.8\n",
       "6   -13986598.6\n",
       "7     3531606.9\n",
       "8      167944.4\n",
       "9    10092125.9\n",
       "dtype: float64"
      ]
     },
     "execution_count": 28,
     "metadata": {},
     "output_type": "execute_result"
    }
   ],
   "source": [
    "x_mean =  Hours - Mean_Hours\n",
    "sq_x_mean = x_mean**2\n",
    "y_mean = Sales - Mean_Sales\n",
    "sq_y_mean = y_mean**2\n",
    "x_mean_y_mean = x_mean*y_mean\n",
    "x_mean_y_mean"
   ]
  },
  {
   "cell_type": "code",
   "execution_count": 29,
   "id": "0689294d",
   "metadata": {},
   "outputs": [],
   "source": [
    "# Find the sum of the squared terms and the sum of the product of the differences.\n",
    "sum_of_squared_x = sum(sq_x_mean)\n",
    "sum_of_squared_y = sum(sq_y_mean)\n",
    "sum_of_product = sum(x_mean_y_mean)"
   ]
  },
  {
   "cell_type": "code",
   "execution_count": 30,
   "id": "1d12afe7",
   "metadata": {},
   "outputs": [],
   "source": [
    "diff_x = sum_of_product - sum_of_squared_x "
   ]
  },
  {
   "cell_type": "code",
   "execution_count": 31,
   "id": "38148067",
   "metadata": {},
   "outputs": [],
   "source": [
    "diff_y = sum_of_squared_y - sum_of_product "
   ]
  },
  {
   "cell_type": "code",
   "execution_count": 32,
   "id": "edacafa0",
   "metadata": {},
   "outputs": [
    {
     "data": {
      "text/plain": [
       "2696088.849597153"
      ]
     },
     "execution_count": 32,
     "metadata": {},
     "output_type": "execute_result"
    }
   ],
   "source": [
    "# Take the square root of the sum of the differences\n",
    "sum_of_diff = diff_x + diff_y\n",
    "np.sqrt(sum_of_diff)"
   ]
  },
  {
   "cell_type": "code",
   "execution_count": 33,
   "id": "094070a6",
   "metadata": {},
   "outputs": [
    {
     "data": {
      "text/plain": [
       "0.3811253649338469"
      ]
     },
     "execution_count": 33,
     "metadata": {},
     "output_type": "execute_result"
    }
   ],
   "source": [
    "# Input the values into the equation\n",
    "data = pd.read_sql_query(\"SELECT * FROM dealership \",conn)\n",
    "x = data.Hours\n",
    "y = data.Sales\n",
    "r = sum((x-np.mean(x))*(y-np.mean(y)))/((np.sqrt(sum((x-np.mean(x))**2)))*(np.sqrt(sum((y-np.mean(y))**2))))\n",
    "r"
   ]
  },
  {
   "cell_type": "code",
   "execution_count": null,
   "id": "7631859b",
   "metadata": {},
   "outputs": [],
   "source": []
  }
 ],
 "metadata": {
  "kernelspec": {
   "display_name": "Python 3 (ipykernel)",
   "language": "python",
   "name": "python3"
  },
  "language_info": {
   "codemirror_mode": {
    "name": "ipython",
    "version": 3
   },
   "file_extension": ".py",
   "mimetype": "text/x-python",
   "name": "python",
   "nbconvert_exporter": "python",
   "pygments_lexer": "ipython3",
   "version": "3.9.7"
  }
 },
 "nbformat": 4,
 "nbformat_minor": 5
}
