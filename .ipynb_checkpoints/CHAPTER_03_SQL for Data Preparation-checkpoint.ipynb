{
 "cells": [
  {
   "cell_type": "code",
   "execution_count": null,
   "id": "87a066e3",
   "metadata": {},
   "outputs": [],
   "source": [
    "import mysql.connector\n",
    "import pandas as pd\n",
    "\n",
    "# Database Connection\n",
    "mydb = mysql.connector.connect(host = \"localhost\",user = \"ragu\",password =\"password\")\n",
    "cursor = mydb.cursor()"
   ]
  },
  {
   "cell_type": "code",
   "execution_count": null,
   "id": "927f1378",
   "metadata": {},
   "outputs": [],
   "source": [
    "# Use Database joins\n",
    "cursor.execute(\"use joins\")"
   ]
  },
  {
   "cell_type": "code",
   "execution_count": null,
   "id": "60281d5f",
   "metadata": {},
   "outputs": [],
   "source": [
    "# List of Tables\n",
    "cursor.execute(\"show tables\")\n",
    "for x in cursor:\n",
    "    print(x)"
   ]
  },
  {
   "cell_type": "code",
   "execution_count": null,
   "id": "af164449",
   "metadata": {},
   "outputs": [],
   "source": [
    "# Retrieving data using select\n",
    "pd.read_sql_query(\"select * from Iris_petal \",mydb)"
   ]
  },
  {
   "cell_type": "code",
   "execution_count": null,
   "id": "af163755",
   "metadata": {},
   "outputs": [],
   "source": [
    "# Retrieving data using select\n",
    "pd.read_sql_query(\"select * from Iris_sepal \",mydb)"
   ]
  },
  {
   "cell_type": "code",
   "execution_count": null,
   "id": "ab6af62d",
   "metadata": {},
   "outputs": [],
   "source": [
    "# Retrieving data using select\n",
    "pd.read_sql_query(\"select * from Iris_species \",mydb)"
   ]
  },
  {
   "cell_type": "code",
   "execution_count": null,
   "id": "8a2cb660",
   "metadata": {},
   "outputs": [],
   "source": [
    "# Inner join\n",
    "pd.read_sql_query(\"select PetalLengthCm , PetalWidthCm, Species from Iris_petal INNER JOIN Iris_species on Iris_petal.Species_Id = Iris_species.Species_Id \",mydb) "
   ]
  },
  {
   "cell_type": "code",
   "execution_count": null,
   "id": "dfee4d1a",
   "metadata": {},
   "outputs": [],
   "source": [
    "pd.read_sql_query(\"select PetalWidthCm, Species from Iris_petal INNER JOIN Iris_species on Iris_petal.Species_Id = Iris_species.Species_Id order by 1\",mydb) "
   ]
  },
  {
   "cell_type": "code",
   "execution_count": null,
   "id": "9d60789d",
   "metadata": {},
   "outputs": [],
   "source": [
    "pd.read_sql_query(\"select PetalWidthCm, Species from Iris_petal INNER JOIN Iris_species on Iris_petal.Species_Id = Iris_species.Species_Id where Iris_species.species ='Iris-setosa'  \",mydb) "
   ]
  },
  {
   "cell_type": "code",
   "execution_count": null,
   "id": "d854b4d5",
   "metadata": {},
   "outputs": [],
   "source": [
    "pd.read_sql_query(\"select PetalWidthCm, Species from Iris_petal INNER JOIN Iris_species on Iris_petal.Species_Id = Iris_species.Species_Id  where Iris_species.species ='Iris-setosa' order by 2  \",mydb) "
   ]
  },
  {
   "cell_type": "code",
   "execution_count": null,
   "id": "eb76630e",
   "metadata": {},
   "outputs": [],
   "source": [
    "pd.read_sql_query(\"select PetalWidthCm, Species from Iris_petal INNER JOIN Iris_species on Iris_petal.Species_Id = Iris_species.Species_Id  where Iris_species.species ='Iris-setosa' order by 1 limit 10 \",mydb) "
   ]
  },
  {
   "cell_type": "code",
   "execution_count": null,
   "id": "7342e6ab",
   "metadata": {},
   "outputs": [],
   "source": [
    "pd.read_sql_query(\"select PetalWidthCm, Species from Iris_petal P INNER JOIN Iris_species S on P.Species_Id = S.Species_Id  where S.species ='Iris-setosa' order by 1 limit 10 \",mydb) "
   ]
  },
  {
   "cell_type": "code",
   "execution_count": null,
   "id": "d0bffda8",
   "metadata": {},
   "outputs": [],
   "source": [
    "pd.read_sql_query(\"select PetalWidthCm from Iris_petal INNER JOIN Iris_species\",mydb)"
   ]
  },
  {
   "cell_type": "code",
   "execution_count": null,
   "id": "548c4794",
   "metadata": {},
   "outputs": [],
   "source": [
    "pd.read_sql_query(\"SELECT * FROM member m INNER JOIN committees c ON c.name = m.name\",mydb)"
   ]
  },
  {
   "cell_type": "code",
   "execution_count": null,
   "id": "131a9940",
   "metadata": {},
   "outputs": [],
   "source": [
    "# INNER JOIN \n",
    "pd.read_sql_query(\"SELECT m.member_id, m.name AS member, c.committees_id,  c.name AS committee FROM member m INNER JOIN committees c ON c.name = m.name\",mydb)"
   ]
  },
  {
   "cell_type": "code",
   "execution_count": null,
   "id": "8b49b98d",
   "metadata": {},
   "outputs": [],
   "source": [
    "# LEFT JOIN (on)\n",
    "pd.read_sql_query(\"SELECT m.member_id, m.name AS member, c.committees_id,  c.name AS committee FROM member m LEFT JOIN committees c ON c.name = m.name\",mydb)"
   ]
  },
  {
   "cell_type": "code",
   "execution_count": null,
   "id": "9a7a2142",
   "metadata": {},
   "outputs": [],
   "source": [
    "# LEFT JOIN (using)\n",
    "pd.read_sql_query(\"SELECT m.member_id, m.name AS member, c.committees_id,  c.name AS committee FROM member m LEFT JOIN committees c  using(name) \",mydb)"
   ]
  },
  {
   "cell_type": "code",
   "execution_count": null,
   "id": "64fadeec",
   "metadata": {},
   "outputs": [],
   "source": [
    "# LEFT JOIN (using & where)\n",
    "pd.read_sql_query(\"SELECT m.member_id, m.name AS member, c.committees_id,  c.name AS committee FROM member m LEFT JOIN committees c  using(name) where c.committees_id is NOT NULL \",mydb)"
   ]
  },
  {
   "cell_type": "code",
   "execution_count": null,
   "id": "1509ce45",
   "metadata": {},
   "outputs": [],
   "source": [
    "# LEFT JOIN (using & where)\n",
    "pd.read_sql_query(\"SELECT m.member_id, m.name AS member, c.committees_id,  c.name AS committee FROM member m LEFT JOIN committees c  using(name) where c.committees_id is  NULL \",mydb)"
   ]
  },
  {
   "cell_type": "code",
   "execution_count": null,
   "id": "dcc9c89d",
   "metadata": {},
   "outputs": [],
   "source": [
    "# RIGHT JOIN \n",
    "pd.read_sql_query(\"SELECT m.member_id, m.name AS member, c.committees_id,  c.name AS committee FROM member m RIGHT JOIN committees c  using(name) \",mydb)"
   ]
  },
  {
   "cell_type": "code",
   "execution_count": null,
   "id": "940d6668",
   "metadata": {},
   "outputs": [],
   "source": [
    "# LEFT JOIN (using & where)\n",
    "pd.read_sql_query(\"SELECT m.member_id, m.name AS member, c.committees_id,  c.name AS committee FROM member m RIGHT JOIN committees c  using(name) where m.member_id is  not NULL \",mydb)"
   ]
  },
  {
   "cell_type": "code",
   "execution_count": null,
   "id": "5951f54e",
   "metadata": {},
   "outputs": [],
   "source": [
    "# LEFT JOIN (using & where)\n",
    "pd.read_sql_query(\"SELECT m.member_id, m.name AS member, c.committees_id,  c.name AS committee FROM member m RIGHT JOIN committees c  using(name) where m.member_id is  NULL \",mydb)"
   ]
  },
  {
   "cell_type": "code",
   "execution_count": null,
   "id": "930f054e",
   "metadata": {},
   "outputs": [],
   "source": [
    "# CROSS JOIN\n",
    "pd.read_sql_query(\"select * from member CROSS JOIN  committees \",mydb)"
   ]
  },
  {
   "cell_type": "code",
   "execution_count": null,
   "id": "85204676",
   "metadata": {},
   "outputs": [],
   "source": []
  }
 ],
 "metadata": {
  "kernelspec": {
   "display_name": "Python 3 (ipykernel)",
   "language": "python",
   "name": "python3"
  },
  "language_info": {
   "codemirror_mode": {
    "name": "ipython",
    "version": 3
   },
   "file_extension": ".py",
   "mimetype": "text/x-python",
   "name": "python",
   "nbconvert_exporter": "python",
   "pygments_lexer": "ipython3",
   "version": "3.9.7"
  }
 },
 "nbformat": 4,
 "nbformat_minor": 5
}
