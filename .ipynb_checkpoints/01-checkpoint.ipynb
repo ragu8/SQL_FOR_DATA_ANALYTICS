{
 "cells": [
  {
   "cell_type": "code",
   "execution_count": 2,
   "id": "515a75cf",
   "metadata": {},
   "outputs": [],
   "source": [
    "import mysql.connector\n",
    "import pandas as pd\n",
    "\n",
    "mydb = mysql.connector.connect(\n",
    "  host=\"localhost\",\n",
    "  user=\"ragu\",\n",
    "  password=\"password\"\n",
    ")\n",
    "\n",
    "mycursor = mydb.cursor()"
   ]
  },
  {
   "cell_type": "code",
   "execution_count": 3,
   "id": "79e4a995",
   "metadata": {},
   "outputs": [],
   "source": [
    "#Doping database MYDATABASE if already exists.\n",
    "mycursor.execute(\"DROP database IF EXISTS Datasets\")"
   ]
  },
  {
   "cell_type": "code",
   "execution_count": 4,
   "id": "a5824703",
   "metadata": {},
   "outputs": [],
   "source": [
    "# Creating a Database\n",
    "mycursor.execute(\" CREATE DATABASE Datasets\")"
   ]
  },
  {
   "cell_type": "code",
   "execution_count": 5,
   "id": "03cff737",
   "metadata": {},
   "outputs": [
    {
     "name": "stdout",
     "output_type": "stream",
     "text": [
      "('Datasets',)\n",
      "('Demo',)\n",
      "('information_schema',)\n",
      "('joins',)\n",
      "('mysql',)\n",
      "('performance_schema',)\n",
      "('sys',)\n"
     ]
    }
   ],
   "source": [
    "# SHOW DATABASES\n",
    "mycursor.execute(\"SHOW DATABASES\")\n",
    "\n",
    "for x in mycursor:\n",
    "    print(x) "
   ]
  },
  {
   "cell_type": "code",
   "execution_count": 6,
   "id": "a99216d8",
   "metadata": {},
   "outputs": [],
   "source": [
    "# Use heights\n",
    "mycursor.execute(\"use Datasets\")"
   ]
  },
  {
   "cell_type": "code",
   "execution_count": 7,
   "id": "7a869a77",
   "metadata": {},
   "outputs": [
    {
     "data": {
      "text/html": [
       "<div>\n",
       "<style scoped>\n",
       "    .dataframe tbody tr th:only-of-type {\n",
       "        vertical-align: middle;\n",
       "    }\n",
       "\n",
       "    .dataframe tbody tr th {\n",
       "        vertical-align: top;\n",
       "    }\n",
       "\n",
       "    .dataframe thead th {\n",
       "        text-align: right;\n",
       "    }\n",
       "</style>\n",
       "<table border=\"1\" class=\"dataframe\">\n",
       "  <thead>\n",
       "    <tr style=\"text-align: right;\">\n",
       "      <th></th>\n",
       "      <th>height</th>\n",
       "    </tr>\n",
       "  </thead>\n",
       "  <tbody>\n",
       "    <tr>\n",
       "      <th>0</th>\n",
       "      <td>182.395153</td>\n",
       "    </tr>\n",
       "    <tr>\n",
       "      <th>1</th>\n",
       "      <td>177.369198</td>\n",
       "    </tr>\n",
       "    <tr>\n",
       "      <th>2</th>\n",
       "      <td>182.198838</td>\n",
       "    </tr>\n",
       "    <tr>\n",
       "      <th>3</th>\n",
       "      <td>176.988964</td>\n",
       "    </tr>\n",
       "    <tr>\n",
       "      <th>4</th>\n",
       "      <td>163.689656</td>\n",
       "    </tr>\n",
       "    <tr>\n",
       "      <th>...</th>\n",
       "      <td>...</td>\n",
       "    </tr>\n",
       "    <tr>\n",
       "      <th>9995</th>\n",
       "      <td>172.694718</td>\n",
       "    </tr>\n",
       "    <tr>\n",
       "      <th>9996</th>\n",
       "      <td>184.422508</td>\n",
       "    </tr>\n",
       "    <tr>\n",
       "      <th>9997</th>\n",
       "      <td>193.775173</td>\n",
       "    </tr>\n",
       "    <tr>\n",
       "      <th>9998</th>\n",
       "      <td>185.282704</td>\n",
       "    </tr>\n",
       "    <tr>\n",
       "      <th>9999</th>\n",
       "      <td>178.123633</td>\n",
       "    </tr>\n",
       "  </tbody>\n",
       "</table>\n",
       "<p>10000 rows × 1 columns</p>\n",
       "</div>"
      ],
      "text/plain": [
       "          height\n",
       "0     182.395153\n",
       "1     177.369198\n",
       "2     182.198838\n",
       "3     176.988964\n",
       "4     163.689656\n",
       "...          ...\n",
       "9995  172.694718\n",
       "9996  184.422508\n",
       "9997  193.775173\n",
       "9998  185.282704\n",
       "9999  178.123633\n",
       "\n",
       "[10000 rows x 1 columns]"
      ]
     },
     "execution_count": 7,
     "metadata": {},
     "output_type": "execute_result"
    }
   ],
   "source": [
    "# Load Datasets to DB-heights\n",
    "data = pd.read_csv(\"./Datasets/heights.csv\")\n",
    "data"
   ]
  },
  {
   "cell_type": "code",
   "execution_count": 8,
   "id": "460c3b91",
   "metadata": {},
   "outputs": [],
   "source": [
    "# Create Table heights\n",
    "mycursor.execute(\"create Table heights(height FLOAT)\")"
   ]
  },
  {
   "cell_type": "code",
   "execution_count": 9,
   "id": "53c9947f",
   "metadata": {},
   "outputs": [],
   "source": [
    "# INSERT VALUES INTO heights\n",
    "for row in data.itertuples():\n",
    "    sql = \"INSERT INTO heights (height) VALUES (%(height)s)\"\n",
    "    val = {\n",
    "        \"height\":row.height\n",
    "        }  \n",
    "    mycursor.execute(sql, val)\n",
    "    mydb.commit()"
   ]
  },
  {
   "cell_type": "code",
   "execution_count": 12,
   "id": "91961810",
   "metadata": {},
   "outputs": [
    {
     "data": {
      "text/html": [
       "<div>\n",
       "<style scoped>\n",
       "    .dataframe tbody tr th:only-of-type {\n",
       "        vertical-align: middle;\n",
       "    }\n",
       "\n",
       "    .dataframe tbody tr th {\n",
       "        vertical-align: top;\n",
       "    }\n",
       "\n",
       "    .dataframe thead th {\n",
       "        text-align: right;\n",
       "    }\n",
       "</style>\n",
       "<table border=\"1\" class=\"dataframe\">\n",
       "  <thead>\n",
       "    <tr style=\"text-align: right;\">\n",
       "      <th></th>\n",
       "      <th>Add-on Sales</th>\n",
       "    </tr>\n",
       "  </thead>\n",
       "  <tbody>\n",
       "    <tr>\n",
       "      <th>0</th>\n",
       "      <td>5000</td>\n",
       "    </tr>\n",
       "    <tr>\n",
       "      <th>1</th>\n",
       "      <td>1700</td>\n",
       "    </tr>\n",
       "    <tr>\n",
       "      <th>2</th>\n",
       "      <td>8200</td>\n",
       "    </tr>\n",
       "    <tr>\n",
       "      <th>3</th>\n",
       "      <td>1500</td>\n",
       "    </tr>\n",
       "    <tr>\n",
       "      <th>4</th>\n",
       "      <td>3300</td>\n",
       "    </tr>\n",
       "    <tr>\n",
       "      <th>5</th>\n",
       "      <td>9000</td>\n",
       "    </tr>\n",
       "    <tr>\n",
       "      <th>6</th>\n",
       "      <td>2000</td>\n",
       "    </tr>\n",
       "    <tr>\n",
       "      <th>7</th>\n",
       "      <td>0</td>\n",
       "    </tr>\n",
       "    <tr>\n",
       "      <th>8</th>\n",
       "      <td>0</td>\n",
       "    </tr>\n",
       "    <tr>\n",
       "      <th>9</th>\n",
       "      <td>2300</td>\n",
       "    </tr>\n",
       "    <tr>\n",
       "      <th>10</th>\n",
       "      <td>4700</td>\n",
       "    </tr>\n",
       "  </tbody>\n",
       "</table>\n",
       "</div>"
      ],
      "text/plain": [
       "    Add-on Sales\n",
       "0           5000\n",
       "1           1700\n",
       "2           8200\n",
       "3           1500\n",
       "4           3300\n",
       "5           9000\n",
       "6           2000\n",
       "7              0\n",
       "8              0\n",
       "9           2300\n",
       "10          4700"
      ]
     },
     "execution_count": 12,
     "metadata": {},
     "output_type": "execute_result"
    }
   ],
   "source": [
    "# Load Datasets to DB-auto_upgrades\n",
    "data = pd.read_csv(\"./Datasets/auto_upgrades.csv\")\n",
    "data"
   ]
  },
  {
   "cell_type": "code",
   "execution_count": 13,
   "id": "fc1e2eea",
   "metadata": {},
   "outputs": [],
   "source": [
    "# Create Table auto_upgrades\n",
    "mycursor.execute(\"create Table auto_upgrades(Sales INT)\")"
   ]
  },
  {
   "cell_type": "code",
   "execution_count": 20,
   "id": "d575d47b",
   "metadata": {},
   "outputs": [
    {
     "ename": "AttributeError",
     "evalue": "'Pandas' object has no attribute 'Add'",
     "output_type": "error",
     "traceback": [
      "\u001b[0;31m---------------------------------------------------------------------------\u001b[0m",
      "\u001b[0;31mAttributeError\u001b[0m                            Traceback (most recent call last)",
      "\u001b[0;32m/tmp/ipykernel_6149/3161363227.py\u001b[0m in \u001b[0;36m<module>\u001b[0;34m\u001b[0m\n\u001b[1;32m      1\u001b[0m \u001b[0;32mfor\u001b[0m \u001b[0mrow\u001b[0m \u001b[0;32min\u001b[0m \u001b[0mdata\u001b[0m\u001b[0;34m.\u001b[0m\u001b[0mitertuples\u001b[0m\u001b[0;34m(\u001b[0m\u001b[0;34m)\u001b[0m\u001b[0;34m:\u001b[0m\u001b[0;34m\u001b[0m\u001b[0;34m\u001b[0m\u001b[0m\n\u001b[0;32m----> 2\u001b[0;31m     \u001b[0mprint\u001b[0m\u001b[0;34m(\u001b[0m\u001b[0mrow\u001b[0m\u001b[0;34m.\u001b[0m\u001b[0mAdd\u001b[0m\u001b[0;34m-\u001b[0m\u001b[0mon\u001b[0m\u001b[0;34m)\u001b[0m\u001b[0;34m\u001b[0m\u001b[0;34m\u001b[0m\u001b[0m\n\u001b[0m",
      "\u001b[0;31mAttributeError\u001b[0m: 'Pandas' object has no attribute 'Add'"
     ]
    }
   ],
   "source": [
    "for row in data.itertuples():\n",
    "    "
   ]
  },
  {
   "cell_type": "code",
   "execution_count": 16,
   "id": "eb76a98a",
   "metadata": {},
   "outputs": [
    {
     "name": "stdout",
     "output_type": "stream",
     "text": [
      "Pandas(Index=0, _1=5000)\n"
     ]
    },
    {
     "ename": "AttributeError",
     "evalue": "'Pandas' object has no attribute 'Sales'",
     "output_type": "error",
     "traceback": [
      "\u001b[0;31m---------------------------------------------------------------------------\u001b[0m",
      "\u001b[0;31mAttributeError\u001b[0m                            Traceback (most recent call last)",
      "\u001b[0;32m/tmp/ipykernel_6149/1404094469.py\u001b[0m in \u001b[0;36m<module>\u001b[0;34m\u001b[0m\n\u001b[1;32m      4\u001b[0m     \u001b[0msql\u001b[0m \u001b[0;34m=\u001b[0m \u001b[0;34m\"INSERT INTO auto_upgrades (Sales) VALUES (%(Sales)s)\"\u001b[0m\u001b[0;34m\u001b[0m\u001b[0;34m\u001b[0m\u001b[0m\n\u001b[1;32m      5\u001b[0m     val = {\n\u001b[0;32m----> 6\u001b[0;31m         \u001b[0;34m\"Sales\"\u001b[0m\u001b[0;34m:\u001b[0m\u001b[0mrow\u001b[0m\u001b[0;34m.\u001b[0m\u001b[0mSales\u001b[0m\u001b[0;34m\u001b[0m\u001b[0;34m\u001b[0m\u001b[0m\n\u001b[0m\u001b[1;32m      7\u001b[0m         }  \n\u001b[1;32m      8\u001b[0m     \u001b[0mmycursor\u001b[0m\u001b[0;34m.\u001b[0m\u001b[0mexecute\u001b[0m\u001b[0;34m(\u001b[0m\u001b[0msql\u001b[0m\u001b[0;34m,\u001b[0m \u001b[0mval\u001b[0m\u001b[0;34m)\u001b[0m\u001b[0;34m\u001b[0m\u001b[0;34m\u001b[0m\u001b[0m\n",
      "\u001b[0;31mAttributeError\u001b[0m: 'Pandas' object has no attribute 'Sales'"
     ]
    }
   ],
   "source": [
    "# INSERT VALUES INTO auto_upgrades\n",
    "for row in data.itertuples():\n",
    "    print(row)\n",
    "    sql = \"INSERT INTO auto_upgrades (Sales) VALUES (%(Sales)s)\"\n",
    "    val = {\n",
    "        \"Sales\":row.Sales\n",
    "        }  \n",
    "    mycursor.execute(sql, val)\n",
    "    mydb.commit()"
   ]
  },
  {
   "cell_type": "code",
   "execution_count": null,
   "id": "d32ecf8e",
   "metadata": {},
   "outputs": [],
   "source": [
    "# Load Datasets to DB-dealership\n",
    "data = pd.read_csv(\"../Datasets/dealership.csv\")\n",
    "data"
   ]
  },
  {
   "cell_type": "code",
   "execution_count": null,
   "id": "06b0d3be",
   "metadata": {},
   "outputs": [],
   "source": [
    "# Create Table dealership\n",
    "mycursor.execute(\"create Table dealership(Hours INT , Sales FLOAT)\")"
   ]
  },
  {
   "cell_type": "code",
   "execution_count": null,
   "id": "cde0ed5c",
   "metadata": {},
   "outputs": [],
   "source": [
    "# INSERT VALUES INTO dealership\n",
    "for row in data.itertuples():\n",
    "    sql = \"INSERT INTO dealership (Hours,Sales) VALUES ( %(Hours)s ,%(Sales)s)\"\n",
    "    val = {\n",
    "        \"Hours\":row.Hours,\n",
    "        \"Sales\":row.Sales\n",
    "    }  \n",
    "    mycursor.execute(sql, val)\n",
    "    mydb.commit()"
   ]
  },
  {
   "cell_type": "code",
   "execution_count": null,
   "id": "8f265608",
   "metadata": {},
   "outputs": [],
   "source": []
  },
  {
   "cell_type": "code",
   "execution_count": null,
   "id": "10b9492f",
   "metadata": {},
   "outputs": [],
   "source": [
    "#Doping database MYDATABASE if already exists.\n",
    "cursor.execute(\"DROP database IF EXISTS Demo\")"
   ]
  },
  {
   "cell_type": "code",
   "execution_count": null,
   "id": "c726bfde",
   "metadata": {},
   "outputs": [],
   "source": [
    "#Preparing query to create a database\n",
    "sql = \"CREATE database Demo\";"
   ]
  },
  {
   "cell_type": "code",
   "execution_count": null,
   "id": "1974b458",
   "metadata": {},
   "outputs": [],
   "source": [
    "#Creating a database\n",
    "cursor.execute(sql)"
   ]
  },
  {
   "cell_type": "code",
   "execution_count": null,
   "id": "277d586d",
   "metadata": {},
   "outputs": [],
   "source": [
    "#Retrieving the list of databases\n",
    "cursor.execute(\"SHOW DATABASES\")\n",
    "\n",
    "for x in cursor:\n",
    "    print(x) "
   ]
  },
  {
   "cell_type": "code",
   "execution_count": null,
   "id": "3c4a0cd8",
   "metadata": {},
   "outputs": [],
   "source": [
    "#Python Mysql - Use Database\n",
    "cursor.execute(\"use Demo\")"
   ]
  },
  {
   "cell_type": "code",
   "execution_count": null,
   "id": "66bfb1e1",
   "metadata": {},
   "outputs": [],
   "source": [
    "#Dropping Table if already Exists\n",
    "cursor.execute(\"drop table if exists Iris\")"
   ]
  },
  {
   "cell_type": "code",
   "execution_count": null,
   "id": "6ee62e5b",
   "metadata": {},
   "outputs": [],
   "source": [
    "#Python-Mysql - Create Table\n",
    "cursor.execute(\"create Table Iris(Id INT,SepalLengthCm FLOAT , SepalWidthCm FLOAT, PetalLengthCm FLOAT, PetalWidthCm FLOAT , Species VARCHAR(16))\")"
   ]
  },
  {
   "cell_type": "code",
   "execution_count": null,
   "id": "cb8441d0",
   "metadata": {},
   "outputs": [],
   "source": [
    "# Load Datasets to DB-Iris\n",
    "data = pd.read_csv(\"../Datasets/Iris.csv\")\n",
    "data"
   ]
  },
  {
   "cell_type": "code",
   "execution_count": null,
   "id": "c54c7adc",
   "metadata": {},
   "outputs": [],
   "source": [
    "#Load csv into db\n",
    "for row in data.itertuples():\n",
    "    sql = \"INSERT INTO Iris (Id, SepalLengthCm, SepalWidthCm, PetalLengthCm, PetalWidthCm ,Species) VALUES (%(Id)s, %(SepalLengthCm)s, %(SepalWidthCm)s, %(PetalLengthCm)s, %(PetalWidthCm)s, %(Species)s)\"\n",
    "    val = {\n",
    "        \"Id\":row.Id,\n",
    "        \"SepalLengthCm\":row.SepalLengthCm,\n",
    "        \"SepalWidthCm\":row.SepalWidthCm,\n",
    "        \"PetalLengthCm\":row.PetalLengthCm,\n",
    "        \"PetalWidthCm\": row.PetalWidthCm,\n",
    "        \"Species\":row.Species     \n",
    "    }  \n",
    "    cursor.execute(sql, val)\n",
    "    mydb.commit()"
   ]
  },
  {
   "cell_type": "code",
   "execution_count": null,
   "id": "ed0dfe2e",
   "metadata": {},
   "outputs": [],
   "source": [
    "#Retrieving single row\n",
    "sql = '''SELECT * from Iris'''\n",
    "\n",
    "#Executing the query\n",
    "cursor.execute(sql)\n",
    "\n",
    "#Fetching 1st row from the table\n",
    "result = cursor.fetchmany(size =1); # can control the rows outcomes\n",
    "print(result)"
   ]
  },
  {
   "cell_type": "code",
   "execution_count": null,
   "id": "0d9cc70e",
   "metadata": {},
   "outputs": [],
   "source": []
  },
  {
   "cell_type": "code",
   "execution_count": null,
   "id": "fd0f0022",
   "metadata": {},
   "outputs": [],
   "source": [
    "# SHOW DATABASES\n",
    "mycursor.execute(\"SHOW DATABASES\")\n",
    "\n",
    "for x in mycursor:\n",
    "    print(x) "
   ]
  },
  {
   "cell_type": "code",
   "execution_count": null,
   "id": "69c0d4a0",
   "metadata": {},
   "outputs": [],
   "source": [
    "# Use heights\n",
    "mycursor.execute(\"use Datasets\")"
   ]
  },
  {
   "cell_type": "code",
   "execution_count": null,
   "id": "7e4ab619",
   "metadata": {},
   "outputs": [],
   "source": [
    "# Load Datasets to DB-Iris\n",
    "data = pd.read_csv(\"../Datasets/Iris.csv\")\n",
    "data"
   ]
  },
  {
   "cell_type": "code",
   "execution_count": null,
   "id": "de11784e",
   "metadata": {},
   "outputs": [],
   "source": [
    "mycursor.execute(\"create Table Iris(Id INT,SepalLengthCm FLOAT , SepalWidthCm FLOAT, PetalLengthCm FLOAT, PetalWidthCm FLOAT , Species VARCHAR(16))\")"
   ]
  },
  {
   "cell_type": "code",
   "execution_count": null,
   "id": "26c03023",
   "metadata": {},
   "outputs": [],
   "source": [
    "for row in data.itertuples():\n",
    "    sql = \"INSERT INTO Iris (Id, SepalLengthCm, SepalWidthCm, PetalLengthCm, PetalWidthCm ,Species) VALUES (%(Id)s, %(SepalLengthCm)s, %(SepalWidthCm)s, %(PetalLengthCm)s, %(PetalWidthCm)s, %(Species)s)\"\n",
    "    val = {\n",
    "        \"Id\":row.Id,\n",
    "        \"SepalLengthCm\":row.SepalLengthCm,\n",
    "        \"SepalWidthCm\":row.SepalWidthCm,\n",
    "        \"PetalLengthCm\":row.PetalLengthCm,\n",
    "        \"PetalWidthCm\": row.PetalWidthCm,\n",
    "        \"Species\":row.Species     \n",
    "    }  \n",
    "    mycursor.execute(sql, val)\n",
    "    mydb.commit()"
   ]
  },
  {
   "cell_type": "code",
   "execution_count": null,
   "id": "1eec0c09",
   "metadata": {},
   "outputs": [],
   "source": [
    "#Doping database MYDATABASE if already exists.\n",
    "mycursor.execute(\"DROP database IF EXISTS joins\")"
   ]
  },
  {
   "cell_type": "code",
   "execution_count": null,
   "id": "8b26b6c4",
   "metadata": {},
   "outputs": [],
   "source": [
    "# Create Database \n",
    "mycursor.execute(\"create database joins\")"
   ]
  },
  {
   "cell_type": "code",
   "execution_count": null,
   "id": "580543c0",
   "metadata": {},
   "outputs": [],
   "source": [
    "# SHOW DATABASES\n",
    "mycursor.execute(\"SHOW DATABASES\")\n",
    "\n",
    "for x in mycursor:\n",
    "    print(x) "
   ]
  },
  {
   "cell_type": "code",
   "execution_count": null,
   "id": "2f7832ff",
   "metadata": {},
   "outputs": [],
   "source": [
    "# Use Joins db\n",
    "mycursor.execute(\"use joins\")"
   ]
  },
  {
   "cell_type": "code",
   "execution_count": null,
   "id": "1f137406",
   "metadata": {},
   "outputs": [],
   "source": [
    "# Load Datasets to DB-Iris\n",
    "data = pd.read_csv(\"../Datasets/Iris.csv\")\n",
    "data"
   ]
  },
  {
   "cell_type": "code",
   "execution_count": null,
   "id": "b9f79558",
   "metadata": {},
   "outputs": [],
   "source": [
    "# Create Table Iris-sepal\n",
    "mycursor.execute(\"create Table Iris_sepal(Id INT PRIMARY KEY, SepalLengthCm FLOAT , SepalWidthCm FLOAT , Species_Id varchar(2) )\")"
   ]
  },
  {
   "cell_type": "code",
   "execution_count": null,
   "id": "4c4357fb",
   "metadata": {},
   "outputs": [],
   "source": [
    "# Insert into Iris_sepal\n",
    "for row in data.itertuples():\n",
    "    sql = \"INSERT INTO Iris_sepal (Id, SepalLengthCm, SepalWidthCm, Species_Id) VALUES (%(Id)s, %(SepalLengthCm)s, %(SepalWidthCm)s, %(Species_Id)s) \"\n",
    "    val = {\n",
    "        \"Id\":row.Id,\n",
    "        \"SepalLengthCm\":row.SepalLengthCm,\n",
    "        \"SepalWidthCm\":row.SepalWidthCm,\n",
    "        \"Species_Id\": row.Species_Id\n",
    "    }  \n",
    "    mycursor.execute(sql, val)\n",
    "    mydb.commit()"
   ]
  },
  {
   "cell_type": "code",
   "execution_count": null,
   "id": "b9cc46b0",
   "metadata": {},
   "outputs": [],
   "source": [
    "# Create Table Iris-petal\n",
    "mycursor.execute(\"create Table Iris_petal(Id INT  PRIMARY KEY ,  PetalLengthCm FLOAT, PetalWidthCm FLOAT , Species_Id varchar(2) )\")"
   ]
  },
  {
   "cell_type": "code",
   "execution_count": null,
   "id": "d0d794ac",
   "metadata": {},
   "outputs": [],
   "source": [
    "# Insert into Iris_petal\n",
    "for row in data.itertuples():\n",
    "    sql = \"INSERT INTO Iris_petal (Id,  PetalLengthCm, PetalWidthCm, Species_Id ) VALUES (%(Id)s, %(PetalLengthCm)s, %(PetalWidthCm)s, %(Species_Id)s )\"\n",
    "    val = {\n",
    "        \"Id\":row.Id,\n",
    "        \"PetalLengthCm\":row.PetalLengthCm,\n",
    "        \"PetalWidthCm\": row.PetalWidthCm,\n",
    "        \"Species_Id\": row.Species_Id\n",
    "    }  \n",
    "    mycursor.execute(sql, val)\n",
    "    mydb.commit()"
   ]
  },
  {
   "cell_type": "code",
   "execution_count": null,
   "id": "31f05ea5",
   "metadata": {},
   "outputs": [],
   "source": [
    "# Load Datasets to DB-Iris\n",
    "data = pd.read_csv(\"../Datasets/Iris_species.csv\")\n",
    "data"
   ]
  },
  {
   "cell_type": "code",
   "execution_count": null,
   "id": "63d371b8",
   "metadata": {},
   "outputs": [],
   "source": [
    "# Create Table Iris_species\n",
    "mycursor.execute(\"create Table Iris_species(Id INT ,Species_Id VARCHAR(2) PRIMARY KEY , Species VARCHAR(16))\")"
   ]
  },
  {
   "cell_type": "code",
   "execution_count": null,
   "id": "bd2681ba",
   "metadata": {},
   "outputs": [],
   "source": [
    "# Insert into Iris_species\n",
    "for row in data.itertuples():\n",
    "    sql = \"INSERT INTO Iris_species (Id,Species_Id , Species) VALUES (%(Id)s,%(Species_Id)s ,%(Species)s)\"\n",
    "    val = {\n",
    "        \"Id\":row.Id,\n",
    "        \"Species_Id\": row.Species_Id,\n",
    "        \"Species\":row.Species     \n",
    "    }  \n",
    "    mycursor.execute(sql, val)\n",
    "    mydb.commit()"
   ]
  },
  {
   "cell_type": "code",
   "execution_count": null,
   "id": "74c933d2",
   "metadata": {},
   "outputs": [],
   "source": [
    "# Select Table Iris_petal\n",
    "pd.read_sql_query(\"select * from Iris_petal\",mydb)"
   ]
  },
  {
   "cell_type": "code",
   "execution_count": null,
   "id": "5c70bd63",
   "metadata": {},
   "outputs": [],
   "source": [
    "# Select Table Iris_sepal\n",
    "pd.read_sql_query(\"select * from Iris_sepal\",mydb)"
   ]
  },
  {
   "cell_type": "code",
   "execution_count": null,
   "id": "85ddb36a",
   "metadata": {},
   "outputs": [],
   "source": [
    "# Select Table Iris_species\n",
    "pd.read_sql_query(\"select * from Iris_species\",mydb)"
   ]
  },
  {
   "cell_type": "code",
   "execution_count": null,
   "id": "bb34d9a8",
   "metadata": {},
   "outputs": [],
   "source": [
    "# Create Table members\n",
    "mycursor.execute(\"create Table member(member_id INT AUTO_INCREMENT PRIMARY KEY, name VARCHAR(100)  )\")"
   ]
  },
  {
   "cell_type": "code",
   "execution_count": null,
   "id": "aa2577b6",
   "metadata": {},
   "outputs": [],
   "source": [
    "# Create Table committees\n",
    "mycursor.execute(\"create Table committees(committees_id INT AUTO_INCREMENT PRIMARY KEY, name VARCHAR(100)  )\")"
   ]
  },
  {
   "cell_type": "code",
   "execution_count": null,
   "id": "eab33d9f",
   "metadata": {},
   "outputs": [],
   "source": [
    "# Inserting Values to member table\n",
    "mycursor.execute(\"INSERT INTO member(name) VALUES ('Ragu'),('Vicky'),('Thanigai'),('Deva'),('Jegan')\")"
   ]
  },
  {
   "cell_type": "code",
   "execution_count": null,
   "id": "e26d4403",
   "metadata": {},
   "outputs": [],
   "source": [
    "# Inserting Values to committees table\n",
    "mycursor.execute(\"INSERT INTO committees(name) VALUES ('Ragu'),('Vicky'),('Thanigai'),('Jegan')\")"
   ]
  },
  {
   "cell_type": "code",
   "execution_count": null,
   "id": "1a7b2567",
   "metadata": {},
   "outputs": [],
   "source": [
    "# Viewing the Member table\n",
    "pd.read_sql_query(\"select * from member\",mydb)"
   ]
  },
  {
   "cell_type": "code",
   "execution_count": null,
   "id": "cf28b1bd",
   "metadata": {},
   "outputs": [],
   "source": [
    "# Viewing the committees table\n",
    "pd.read_sql_query(\"select * from committees\",mydb)"
   ]
  },
  {
   "cell_type": "code",
   "execution_count": null,
   "id": "b0a58b85",
   "metadata": {},
   "outputs": [],
   "source": []
  },
  {
   "cell_type": "code",
   "execution_count": null,
   "id": "3318c070",
   "metadata": {},
   "outputs": [],
   "source": []
  },
  {
   "cell_type": "code",
   "execution_count": null,
   "id": "06e76084",
   "metadata": {},
   "outputs": [],
   "source": []
  }
 ],
 "metadata": {
  "kernelspec": {
   "display_name": "Python 3 (ipykernel)",
   "language": "python",
   "name": "python3"
  },
  "language_info": {
   "codemirror_mode": {
    "name": "ipython",
    "version": 3
   },
   "file_extension": ".py",
   "mimetype": "text/x-python",
   "name": "python",
   "nbconvert_exporter": "python",
   "pygments_lexer": "ipython3",
   "version": "3.9.7"
  }
 },
 "nbformat": 4,
 "nbformat_minor": 5
}
