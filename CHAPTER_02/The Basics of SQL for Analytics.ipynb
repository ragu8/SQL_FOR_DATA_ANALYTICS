{
 "cells": [
  {
   "cell_type": "code",
   "execution_count": 17,
   "id": "21f2cbc0",
   "metadata": {},
   "outputs": [],
   "source": [
    "import mysql.connector\n",
    "\n",
    "#Python MySQL - Database Connection\n",
    "mydb = mysql.connector.connect(host=\"localhost\",user=\"ragu\",password=\"password\")\n",
    "cursor = mydb.cursor()"
   ]
  },
  {
   "cell_type": "code",
   "execution_count": 18,
   "id": "3c48ca8f",
   "metadata": {},
   "outputs": [],
   "source": [
    "#Doping database MYDATABASE if already exists.\n",
    "cursor.execute(\"DROP database IF EXISTS Demo\")"
   ]
  },
  {
   "cell_type": "code",
   "execution_count": 19,
   "id": "cd116fe5",
   "metadata": {},
   "outputs": [],
   "source": [
    "#Preparing query to create a database\n",
    "sql = \"CREATE database Demo\";"
   ]
  },
  {
   "cell_type": "code",
   "execution_count": 20,
   "id": "fbc7254b",
   "metadata": {},
   "outputs": [],
   "source": [
    "#Creating a database\n",
    "cursor.execute(sql)"
   ]
  },
  {
   "cell_type": "code",
   "execution_count": 21,
   "id": "acb003b7",
   "metadata": {},
   "outputs": [
    {
     "name": "stdout",
     "output_type": "stream",
     "text": [
      "('Datasets',)\n",
      "('Demo',)\n",
      "('information_schema',)\n",
      "('mysql',)\n",
      "('performance_schema',)\n",
      "('sys',)\n"
     ]
    }
   ],
   "source": [
    "#Retrieving the list of databases\n",
    "cursor.execute(\"SHOW DATABASES\")\n",
    "\n",
    "for x in cursor:\n",
    "    print(x) "
   ]
  },
  {
   "cell_type": "code",
   "execution_count": 23,
   "id": "24620473",
   "metadata": {},
   "outputs": [],
   "source": [
    "#Python Mysql - Use Database\n",
    "cursor.execute(\"use Demo\")"
   ]
  },
  {
   "cell_type": "code",
   "execution_count": 25,
   "id": "40e772fe",
   "metadata": {},
   "outputs": [],
   "source": [
    "#Dropping Table if already Exists\n",
    "cursor.execute(\"drop table if exists Iris\")"
   ]
  },
  {
   "cell_type": "code",
   "execution_count": 27,
   "id": "6c9e0e8b",
   "metadata": {},
   "outputs": [],
   "source": [
    "#Python-Mysql - Create Table\n",
    "cursor.execute(\"create Table Iris(Id INT,SepalLengthCm FLOAT , SepalWidthCm FLOAT, PetalLengthCm FLOAT, PetalWidthCm FLOAT , Species VARCHAR(16))\")"
   ]
  },
  {
   "cell_type": "code",
   "execution_count": null,
   "id": "79ea5b9c",
   "metadata": {},
   "outputs": [],
   "source": []
  }
 ],
 "metadata": {
  "kernelspec": {
   "display_name": "Python 3 (ipykernel)",
   "language": "python",
   "name": "python3"
  },
  "language_info": {
   "codemirror_mode": {
    "name": "ipython",
    "version": 3
   },
   "file_extension": ".py",
   "mimetype": "text/x-python",
   "name": "python",
   "nbconvert_exporter": "python",
   "pygments_lexer": "ipython3",
   "version": "3.9.7"
  }
 },
 "nbformat": 4,
 "nbformat_minor": 5
}
