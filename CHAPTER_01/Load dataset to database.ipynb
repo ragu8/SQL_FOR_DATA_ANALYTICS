{
 "cells": [
  {
   "cell_type": "code",
   "execution_count": 1,
   "id": "515a75cf",
   "metadata": {},
   "outputs": [],
   "source": [
    "import mysql.connector\n",
    "import pandas as pd\n",
    "\n",
    "mydb = mysql.connector.connect(\n",
    "  host=\"localhost\",\n",
    "  user=\"ragu\",\n",
    "  password=\"password\"\n",
    ")\n",
    "\n",
    "mycursor = mydb.cursor()"
   ]
  },
  {
   "cell_type": "code",
   "execution_count": 2,
   "id": "a5824703",
   "metadata": {},
   "outputs": [],
   "source": [
    "# Creating a Database\n",
    "mycursor.execute(\" CREATE DATABASE Datasets\")"
   ]
  },
  {
   "cell_type": "code",
   "execution_count": 3,
   "id": "03cff737",
   "metadata": {},
   "outputs": [
    {
     "name": "stdout",
     "output_type": "stream",
     "text": [
      "('Datasets',)\n",
      "('information_schema',)\n",
      "('mysql',)\n",
      "('performance_schema',)\n",
      "('sys',)\n"
     ]
    }
   ],
   "source": [
    "# SHOW DATABASES\n",
    "mycursor.execute(\"SHOW DATABASES\")\n",
    "\n",
    "for x in mycursor:\n",
    "    print(x) "
   ]
  },
  {
   "cell_type": "code",
   "execution_count": 4,
   "id": "a99216d8",
   "metadata": {},
   "outputs": [],
   "source": [
    "# Use heights\n",
    "mycursor.execute(\"use Datasets\")"
   ]
  },
  {
   "cell_type": "code",
   "execution_count": 5,
   "id": "7a869a77",
   "metadata": {},
   "outputs": [
    {
     "data": {
      "text/html": [
       "<div>\n",
       "<style scoped>\n",
       "    .dataframe tbody tr th:only-of-type {\n",
       "        vertical-align: middle;\n",
       "    }\n",
       "\n",
       "    .dataframe tbody tr th {\n",
       "        vertical-align: top;\n",
       "    }\n",
       "\n",
       "    .dataframe thead th {\n",
       "        text-align: right;\n",
       "    }\n",
       "</style>\n",
       "<table border=\"1\" class=\"dataframe\">\n",
       "  <thead>\n",
       "    <tr style=\"text-align: right;\">\n",
       "      <th></th>\n",
       "      <th>height</th>\n",
       "    </tr>\n",
       "  </thead>\n",
       "  <tbody>\n",
       "    <tr>\n",
       "      <th>0</th>\n",
       "      <td>182.395153</td>\n",
       "    </tr>\n",
       "    <tr>\n",
       "      <th>1</th>\n",
       "      <td>177.369198</td>\n",
       "    </tr>\n",
       "    <tr>\n",
       "      <th>2</th>\n",
       "      <td>182.198838</td>\n",
       "    </tr>\n",
       "    <tr>\n",
       "      <th>3</th>\n",
       "      <td>176.988964</td>\n",
       "    </tr>\n",
       "    <tr>\n",
       "      <th>4</th>\n",
       "      <td>163.689656</td>\n",
       "    </tr>\n",
       "    <tr>\n",
       "      <th>...</th>\n",
       "      <td>...</td>\n",
       "    </tr>\n",
       "    <tr>\n",
       "      <th>9995</th>\n",
       "      <td>172.694718</td>\n",
       "    </tr>\n",
       "    <tr>\n",
       "      <th>9996</th>\n",
       "      <td>184.422508</td>\n",
       "    </tr>\n",
       "    <tr>\n",
       "      <th>9997</th>\n",
       "      <td>193.775173</td>\n",
       "    </tr>\n",
       "    <tr>\n",
       "      <th>9998</th>\n",
       "      <td>185.282704</td>\n",
       "    </tr>\n",
       "    <tr>\n",
       "      <th>9999</th>\n",
       "      <td>178.123633</td>\n",
       "    </tr>\n",
       "  </tbody>\n",
       "</table>\n",
       "<p>10000 rows × 1 columns</p>\n",
       "</div>"
      ],
      "text/plain": [
       "          height\n",
       "0     182.395153\n",
       "1     177.369198\n",
       "2     182.198838\n",
       "3     176.988964\n",
       "4     163.689656\n",
       "...          ...\n",
       "9995  172.694718\n",
       "9996  184.422508\n",
       "9997  193.775173\n",
       "9998  185.282704\n",
       "9999  178.123633\n",
       "\n",
       "[10000 rows x 1 columns]"
      ]
     },
     "execution_count": 5,
     "metadata": {},
     "output_type": "execute_result"
    }
   ],
   "source": [
    "# Load Datasets to DB-heights\n",
    "data = pd.read_csv(\"../Datasets/heights.csv\")\n",
    "data"
   ]
  },
  {
   "cell_type": "code",
   "execution_count": 6,
   "id": "460c3b91",
   "metadata": {},
   "outputs": [],
   "source": [
    "# Create Table heights\n",
    "mycursor.execute(\"create Table heights(height FLOAT)\")"
   ]
  },
  {
   "cell_type": "code",
   "execution_count": 7,
   "id": "53c9947f",
   "metadata": {},
   "outputs": [],
   "source": [
    "# INSERT VALUES INTO heights\n",
    "for row in data.itertuples():\n",
    "    sql = \"INSERT INTO heights (height) VALUES (%(height)s)\"\n",
    "    val = {\n",
    "        \"height\":row.height\n",
    "        }  \n",
    "    mycursor.execute(sql, val)\n",
    "    mydb.commit()"
   ]
  },
  {
   "cell_type": "code",
   "execution_count": 8,
   "id": "91961810",
   "metadata": {},
   "outputs": [
    {
     "data": {
      "text/html": [
       "<div>\n",
       "<style scoped>\n",
       "    .dataframe tbody tr th:only-of-type {\n",
       "        vertical-align: middle;\n",
       "    }\n",
       "\n",
       "    .dataframe tbody tr th {\n",
       "        vertical-align: top;\n",
       "    }\n",
       "\n",
       "    .dataframe thead th {\n",
       "        text-align: right;\n",
       "    }\n",
       "</style>\n",
       "<table border=\"1\" class=\"dataframe\">\n",
       "  <thead>\n",
       "    <tr style=\"text-align: right;\">\n",
       "      <th></th>\n",
       "      <th>Sales</th>\n",
       "    </tr>\n",
       "  </thead>\n",
       "  <tbody>\n",
       "    <tr>\n",
       "      <th>0</th>\n",
       "      <td>5000</td>\n",
       "    </tr>\n",
       "    <tr>\n",
       "      <th>1</th>\n",
       "      <td>1700</td>\n",
       "    </tr>\n",
       "    <tr>\n",
       "      <th>2</th>\n",
       "      <td>8200</td>\n",
       "    </tr>\n",
       "    <tr>\n",
       "      <th>3</th>\n",
       "      <td>1500</td>\n",
       "    </tr>\n",
       "    <tr>\n",
       "      <th>4</th>\n",
       "      <td>3300</td>\n",
       "    </tr>\n",
       "    <tr>\n",
       "      <th>5</th>\n",
       "      <td>9000</td>\n",
       "    </tr>\n",
       "    <tr>\n",
       "      <th>6</th>\n",
       "      <td>2000</td>\n",
       "    </tr>\n",
       "    <tr>\n",
       "      <th>7</th>\n",
       "      <td>0</td>\n",
       "    </tr>\n",
       "    <tr>\n",
       "      <th>8</th>\n",
       "      <td>0</td>\n",
       "    </tr>\n",
       "    <tr>\n",
       "      <th>9</th>\n",
       "      <td>2300</td>\n",
       "    </tr>\n",
       "    <tr>\n",
       "      <th>10</th>\n",
       "      <td>4700</td>\n",
       "    </tr>\n",
       "  </tbody>\n",
       "</table>\n",
       "</div>"
      ],
      "text/plain": [
       "    Sales\n",
       "0    5000\n",
       "1    1700\n",
       "2    8200\n",
       "3    1500\n",
       "4    3300\n",
       "5    9000\n",
       "6    2000\n",
       "7       0\n",
       "8       0\n",
       "9    2300\n",
       "10   4700"
      ]
     },
     "execution_count": 8,
     "metadata": {},
     "output_type": "execute_result"
    }
   ],
   "source": [
    "# Load Datasets to DB-auto_upgrades\n",
    "data = pd.read_csv(\"../Datasets/auto_upgrades.csv\")\n",
    "data"
   ]
  },
  {
   "cell_type": "code",
   "execution_count": 9,
   "id": "fc1e2eea",
   "metadata": {},
   "outputs": [],
   "source": [
    "# Create Table auto_upgrades\n",
    "mycursor.execute(\"create Table auto_upgrades(Sales INT)\")"
   ]
  },
  {
   "cell_type": "code",
   "execution_count": 10,
   "id": "eb76a98a",
   "metadata": {},
   "outputs": [],
   "source": [
    "# INSERT VALUES INTO auto_upgrades\n",
    "for row in data.itertuples():\n",
    "    sql = \"INSERT INTO auto_upgrades (Sales) VALUES (%(Sales)s)\"\n",
    "    val = {\n",
    "        \"Sales\":row.Sales\n",
    "        }  \n",
    "    mycursor.execute(sql, val)\n",
    "    mydb.commit()"
   ]
  },
  {
   "cell_type": "code",
   "execution_count": 11,
   "id": "d32ecf8e",
   "metadata": {},
   "outputs": [
    {
     "data": {
      "text/html": [
       "<div>\n",
       "<style scoped>\n",
       "    .dataframe tbody tr th:only-of-type {\n",
       "        vertical-align: middle;\n",
       "    }\n",
       "\n",
       "    .dataframe tbody tr th {\n",
       "        vertical-align: top;\n",
       "    }\n",
       "\n",
       "    .dataframe thead th {\n",
       "        text-align: right;\n",
       "    }\n",
       "</style>\n",
       "<table border=\"1\" class=\"dataframe\">\n",
       "  <thead>\n",
       "    <tr style=\"text-align: right;\">\n",
       "      <th></th>\n",
       "      <th>Hours</th>\n",
       "      <th>Sales</th>\n",
       "    </tr>\n",
       "  </thead>\n",
       "  <tbody>\n",
       "    <tr>\n",
       "      <th>0</th>\n",
       "      <td>40</td>\n",
       "      <td>179480.58</td>\n",
       "    </tr>\n",
       "    <tr>\n",
       "      <th>1</th>\n",
       "      <td>56</td>\n",
       "      <td>2495037.51</td>\n",
       "    </tr>\n",
       "    <tr>\n",
       "      <th>2</th>\n",
       "      <td>50</td>\n",
       "      <td>2285369.51</td>\n",
       "    </tr>\n",
       "    <tr>\n",
       "      <th>3</th>\n",
       "      <td>82</td>\n",
       "      <td>2367896.33</td>\n",
       "    </tr>\n",
       "    <tr>\n",
       "      <th>4</th>\n",
       "      <td>41</td>\n",
       "      <td>1309745.16</td>\n",
       "    </tr>\n",
       "    <tr>\n",
       "      <th>5</th>\n",
       "      <td>51</td>\n",
       "      <td>623013.69</td>\n",
       "    </tr>\n",
       "    <tr>\n",
       "      <th>6</th>\n",
       "      <td>45</td>\n",
       "      <td>2989943.37</td>\n",
       "    </tr>\n",
       "    <tr>\n",
       "      <th>7</th>\n",
       "      <td>90</td>\n",
       "      <td>1970316.24</td>\n",
       "    </tr>\n",
       "    <tr>\n",
       "      <th>8</th>\n",
       "      <td>47</td>\n",
       "      <td>1845840.39</td>\n",
       "    </tr>\n",
       "    <tr>\n",
       "      <th>9</th>\n",
       "      <td>72</td>\n",
       "      <td>2553231.33</td>\n",
       "    </tr>\n",
       "  </tbody>\n",
       "</table>\n",
       "</div>"
      ],
      "text/plain": [
       "   Hours       Sales\n",
       "0     40   179480.58\n",
       "1     56  2495037.51\n",
       "2     50  2285369.51\n",
       "3     82  2367896.33\n",
       "4     41  1309745.16\n",
       "5     51   623013.69\n",
       "6     45  2989943.37\n",
       "7     90  1970316.24\n",
       "8     47  1845840.39\n",
       "9     72  2553231.33"
      ]
     },
     "execution_count": 11,
     "metadata": {},
     "output_type": "execute_result"
    }
   ],
   "source": [
    "# Load Datasets to DB-dealership\n",
    "data = pd.read_csv(\"../Datasets/dealership.csv\")\n",
    "data"
   ]
  },
  {
   "cell_type": "code",
   "execution_count": 12,
   "id": "06b0d3be",
   "metadata": {},
   "outputs": [],
   "source": [
    "# Create Table dealership\n",
    "mycursor.execute(\"create Table dealership(Hours INT , Sales FLOAT)\")"
   ]
  },
  {
   "cell_type": "code",
   "execution_count": 13,
   "id": "cde0ed5c",
   "metadata": {},
   "outputs": [],
   "source": [
    "# INSERT VALUES INTO dealership\n",
    "for row in data.itertuples():\n",
    "    sql = \"INSERT INTO dealership (Hours,Sales) VALUES ( %(Hours)s ,%(Sales)s)\"\n",
    "    val = {\n",
    "        \"Hours\":row.Hours,\n",
    "        \"Sales\":row.Sales\n",
    "    }  \n",
    "    mycursor.execute(sql, val)\n",
    "    mydb.commit()"
   ]
  },
  {
   "cell_type": "code",
   "execution_count": null,
   "id": "fd0f0022",
   "metadata": {},
   "outputs": [],
   "source": []
  }
 ],
 "metadata": {
  "kernelspec": {
   "display_name": "Python 3 (ipykernel)",
   "language": "python",
   "name": "python3"
  },
  "language_info": {
   "codemirror_mode": {
    "name": "ipython",
    "version": 3
   },
   "file_extension": ".py",
   "mimetype": "text/x-python",
   "name": "python",
   "nbconvert_exporter": "python",
   "pygments_lexer": "ipython3",
   "version": "3.9.7"
  }
 },
 "nbformat": 4,
 "nbformat_minor": 5
}
