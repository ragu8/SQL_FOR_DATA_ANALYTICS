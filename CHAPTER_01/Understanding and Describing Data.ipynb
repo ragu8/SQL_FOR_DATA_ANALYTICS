{
 "cells": [
  {
   "cell_type": "code",
   "execution_count": 1,
   "id": "e539d9fc",
   "metadata": {},
   "outputs": [],
   "source": [
    "import matplotlib.pyplot as plt\n",
    "import pandas as pd\n",
    "import numpy as np\n",
    "import statistics as stat\n",
    "import math"
   ]
  },
  {
   "cell_type": "code",
   "execution_count": 2,
   "id": "2495c0c4",
   "metadata": {},
   "outputs": [],
   "source": [
    "# Exercise 1: Creating a Histogram"
   ]
  },
  {
   "cell_type": "code",
   "execution_count": 3,
   "id": "a3bbf47b",
   "metadata": {},
   "outputs": [
    {
     "data": {
      "image/png": "[encoded data removed]",
      "text/plain": [
       "<Figure size 432x288 with 1 Axes>"
      ]
     },
     "metadata": {
      "needs_background": "light"
     },
     "output_type": "display_data"
    }
   ],
   "source": [
    "data = pd.read_csv(\"../Datasets/heights.csv\")\n",
    "\n",
    "plt.xlabel(\"heights\")\n",
    "plt.ylabel(\"No of people\")\n",
    "plt.title('Exercise 1: Creating a Histogram')\n",
    "plt.hist(data)\n",
    "plt.show() "
   ]
  },
  {
   "cell_type": "code",
   "execution_count": 4,
   "id": "2c3a618f",
   "metadata": {},
   "outputs": [],
   "source": [
    "# Exercise 2: Calculating the Quartiles for Add-on Sales"
   ]
  },
  {
   "cell_type": "code",
   "execution_count": 5,
   "id": "dc4f7ed8",
   "metadata": {},
   "outputs": [],
   "source": [
    "data = pd.read_csv(\"../Datasets/auto_upgrades.csv\")\n",
    "  \n",
    "# First quartile (Q1)\n",
    "Q1 = np.percentile(data, 25)\n",
    "\n",
    "# Second quartile (Q2)\n",
    "Q2 = np.percentile(data, 50)\n",
    "  \n",
    "# Third quartile (Q3)\n",
    "Q3 = np.percentile(data, 75)\n",
    "\n",
    "# Four quartile (Q4)\n",
    "Q4 = np.percentile(data, 100)"
   ]
  },
  {
   "cell_type": "code",
   "execution_count": 6,
   "id": "cf7b3793",
   "metadata": {},
   "outputs": [
    {
     "data": {
      "image/png": "[encoded data removed]",
      "text/plain": [
       "<Figure size 432x288 with 1 Axes>"
      ]
     },
     "metadata": {
      "needs_background": "light"
     },
     "output_type": "display_data"
    }
   ],
   "source": [
    "plt.xlabel(\"Quartiles\")\n",
    "plt.ylabel(\"Car Price\")\n",
    "plt.title('Exercise 2: Calculating the Quartiles for Add-on Sales')\n",
    "plt.boxplot(data)\n",
    "plt.show() "
   ]
  },
  {
   "cell_type": "code",
   "execution_count": 7,
   "id": "0251579b",
   "metadata": {},
   "outputs": [],
   "source": [
    "# Exercise 3: Calculating the Central Tendency of Add-on Sales"
   ]
  },
  {
   "cell_type": "code",
   "execution_count": 8,
   "id": "1ae4ed49",
   "metadata": {},
   "outputs": [],
   "source": [
    "data = pd.read_csv(\"../Datasets/auto_upgrades.csv\")\n",
    "mode = np.unique(data)\n",
    "mean = np.mean(data)\n",
    "median = np.median(data)\n",
    "data = [mode, mean, median]"
   ]
  },
  {
   "cell_type": "code",
   "execution_count": 9,
   "id": "c582c873",
   "metadata": {
    "scrolled": true
   },
   "outputs": [
    {
     "data": {
      "image/png": "[encoded data removed]",
      "text/plain": [
       "<Figure size 432x288 with 1 Axes>"
      ]
     },
     "metadata": {
      "needs_background": "light"
     },
     "output_type": "display_data"
    }
   ],
   "source": [
    "plt.xlabel(\"Quartiles\")\n",
    "plt.ylabel(\"Car Price\")\n",
    "plt.title('Exercise 3: Calculating the Central Tendency of Add-on Sales')\n",
    "plt.boxplot(data)\n",
    "plt.show() "
   ]
  },
  {
   "cell_type": "code",
   "execution_count": 10,
   "id": "3fa5ceca",
   "metadata": {},
   "outputs": [],
   "source": [
    "# Exercise 4: Dispersion of Add-on Sales"
   ]
  },
  {
   "cell_type": "code",
   "execution_count": 11,
   "id": "b27d7f0f",
   "metadata": {},
   "outputs": [],
   "source": [
    "data = pd.read_csv(\"../Datasets/auto_upgrades.csv\")\n",
    "data = data['Add-on Sales'].tolist()"
   ]
  },
  {
   "cell_type": "code",
   "execution_count": 12,
   "id": "8d6dd4be",
   "metadata": {},
   "outputs": [
    {
     "data": {
      "text/plain": [
       "9000"
      ]
     },
     "execution_count": 12,
     "metadata": {},
     "output_type": "execute_result"
    }
   ],
   "source": [
    "# Range\n",
    "range_ = max(data) - min(data)\n",
    "range_"
   ]
  },
  {
   "cell_type": "code",
   "execution_count": 13,
   "id": "270dfb3d",
   "metadata": {},
   "outputs": [
    {
     "data": {
      "text/plain": [
       "3023.934823732452"
      ]
     },
     "execution_count": 13,
     "metadata": {},
     "output_type": "execute_result"
    }
   ],
   "source": [
    "# Standard deviation\n",
    "\n",
    "# Using Python's statistics Function's variance() & stdev()\n",
    "\n",
    "stat.variance(data)\n",
    "stat.stdev(data)\n",
    "\n",
    "# From crash\n",
    "def Var(data):\n",
    "    n = len(data)\n",
    "    mean = sum(data)/n\n",
    "    Var = sum((x-mean)**2 for x in data) / (n-1)\n",
    "    return Var\n",
    "\n",
    "def Stdev(data):\n",
    "    var = Var(data)\n",
    "    Stdev = math.sqrt(var)\n",
    "    return Stdev\n",
    "Var(data)\n",
    "Stdev(data)"
   ]
  },
  {
   "cell_type": "code",
   "execution_count": 14,
   "id": "2157919c",
   "metadata": {},
   "outputs": [],
   "source": [
    "# Calculating the mean of Quartiles \n",
    "# First quartile (Q1)\n",
    "Q1 = np.percentile(data, 25)\n",
    "\n",
    "# Second quartile (Q2)\n",
    "Q2 = np.percentile(data, 50)\n",
    "  \n",
    "# Third quartile (Q3)\n",
    "Q3 = np.percentile(data, 75)\n",
    "\n",
    "# Four quartile (Q4)\n",
    "Q4 = np.percentile(data, 100)\n",
    "  "
   ]
  },
  {
   "cell_type": "code",
   "execution_count": 15,
   "id": "ff9beaab",
   "metadata": {},
   "outputs": [
    {
     "data": {
      "text/plain": [
       "array([ 1572.72727273, -1727.27272727,  4772.72727273, -1927.27272727,\n",
       "        -127.27272727,  5572.72727273, -1427.27272727, -3427.27272727,\n",
       "       -3427.27272727, -1127.27272727,  1272.72727273])"
      ]
     },
     "execution_count": 15,
     "metadata": {},
     "output_type": "execute_result"
    }
   ],
   "source": [
    "data = pd.read_csv(\"../Datasets/auto_upgrades.csv\")\n",
    "data = data['Add-on Sales'].tolist()\n",
    "# Difference With Mean\n",
    "Diff = data - np.mean(data)\n",
    "Diff"
   ]
  },
  {
   "cell_type": "code",
   "execution_count": 16,
   "id": "ee828d4e",
   "metadata": {},
   "outputs": [
    {
     "data": {
      "text/plain": [
       "array([2.47347107e+06, 2.98347107e+06, 2.27789256e+07, 3.71438017e+06,\n",
       "       1.61983471e+04, 3.10552893e+07, 2.03710744e+06, 1.17461983e+07,\n",
       "       1.17461983e+07, 1.27074380e+06, 1.61983471e+06])"
      ]
     },
     "execution_count": 16,
     "metadata": {},
     "output_type": "execute_result"
    }
   ],
   "source": [
    "# Differences with Mean Squared\n",
    "Diff_Mean_Sqr = Diff**2\n",
    "Diff_Mean_Sqr"
   ]
  },
  {
   "cell_type": "code",
   "execution_count": 25,
   "id": "ae7be265",
   "metadata": {},
   "outputs": [
    {
     "data": {
      "text/plain": [
       "3023.9348237324525"
      ]
     },
     "execution_count": 25,
     "metadata": {},
     "output_type": "execute_result"
    }
   ],
   "source": [
    "# Divide the sum by the number of data points minus 1, which, in this case, is 10, and take its square root.\n",
    "data = pd.read_csv(\"../Datasets/auto_upgrades.csv\")\n",
    "data = data['Add-on Sales'].tolist()\n",
    "sample = data\n",
    "data = sum(data) -1\n",
    "stat.stdev(sample)"
   ]
  },
  {
   "cell_type": "code",
   "execution_count": 18,
   "id": "99cf8d25",
   "metadata": {},
   "outputs": [
    {
     "data": {
      "text/plain": [
       "3250.0"
      ]
     },
     "execution_count": 18,
     "metadata": {},
     "output_type": "execute_result"
    }
   ],
   "source": [
    "# Interquaritle range (IQR)\n",
    "IQR = Q3 - Q1\n",
    "IQR"
   ]
  },
  {
   "cell_type": "code",
   "execution_count": 26,
   "id": "ea4cc33f",
   "metadata": {},
   "outputs": [],
   "source": [
    "# Exercise 5: Calculating the Pearson Correlation Coefficient for Two Variables"
   ]
  },
  {
   "cell_type": "code",
   "execution_count": null,
   "id": "e11d627a",
   "metadata": {},
   "outputs": [],
   "source": []
  }
 ],
 "metadata": {
  "kernelspec": {
   "display_name": "Python 3 (ipykernel)",
   "language": "python",
   "name": "python3"
  },
  "language_info": {
   "codemirror_mode": {
    "name": "ipython",
    "version": 3
   },
   "file_extension": ".py",
   "mimetype": "text/x-python",
   "name": "python",
   "nbconvert_exporter": "python",
   "pygments_lexer": "ipython3",
   "version": "3.9.7"
  }
 },
 "nbformat": 4,
 "nbformat_minor": 5
}
